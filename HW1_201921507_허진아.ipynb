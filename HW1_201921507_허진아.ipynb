{
 "cells": [
  {
   "cell_type": "markdown",
   "id": "39337cc3",
   "metadata": {},
   "source": [
    "# 파이썬 스타일코드1 - 연습해보기\n",
    "### e-비즈니스학과 201921507 허진아\n",
    "# 일반문제\n",
    "---"
   ]
  },
  {
   "cell_type": "markdown",
   "id": "d8e89e13",
   "metadata": {},
   "source": [
    "\n",
    "# 1. Css Selector 수정\n",
    "Css Selector는 웹 페이지에서 특정 요소를 선택하기 위해 해당 요소깢지 찾아갈 수 있도록 해주는 주소와 같은 것이다. 대부분의 웹브라우져에서는 해당 요소에 대한 css selector 값을 쉽게 얻어올 수 있다(F12 > Select an Element). 다음과 같은 selector가 있다고 한다.\n"
   ]
  },
  {
   "cell_type": "code",
   "execution_count": 4,
   "id": "93d0958e",
   "metadata": {},
   "outputs": [],
   "source": [
    "#today_main_news > div.hdline_news > ul > li:nth-child(1)"
   ]
  },
  {
   "cell_type": "markdown",
   "id": "776c1480",
   "metadata": {},
   "source": [
    "이러한 selector를 웹크롤링에서 사용하기 위해서는 :nth-child라는 부분을 제거하는 작업이 필요한데, 이를 자동화 해보자.\n",
    "> ***Q***: 해당 Selector를 문자열로 표시하고, split과 join함수를 활용하여 다음 예시와 같은 selector를 출력하시오. "
   ]
  },
  {
   "cell_type": "markdown",
   "id": "d853d68f",
   "metadata": {},
   "source": [
    "# 출력 결과 예시"
   ]
  },
  {
   "cell_type": "code",
   "execution_count": 7,
   "id": "8e4caa81",
   "metadata": {},
   "outputs": [],
   "source": [
    "selector = \"#today_main_news > div.hdline_news > ul > li:nth-child(1)\" \n",
    "\n",
    "## CODE\n",
    "\n",
    "## '#today_main_new > div.hdline_news > ul > li'"
   ]
  },
  {
   "cell_type": "markdown",
   "id": "2159529b",
   "metadata": {},
   "source": [
    "# HINT\n",
    "1. 특정 구분자(seperator)를 통해 구분된 리스트를 만든다.\n",
    "2. 구분된 리스트에서 해당 부분을 서택하고 1과는 다른 특정 구분자로 나눠준다.\n",
    "3. 2의 리스트에서 필요한  부분만 선택하여 기존 리스트에 할당한다.\n",
    "4. 구분자를 기준으로 리스트를 문자열로 합쳐준다."
   ]
  },
  {
   "cell_type": "code",
   "execution_count": 10,
   "id": "f1de2d22",
   "metadata": {},
   "outputs": [
    {
     "data": {
      "text/plain": [
       "'#today_main_news > div.hdline_news > ul > li'"
      ]
     },
     "execution_count": 10,
     "metadata": {},
     "output_type": "execute_result"
    }
   ],
   "source": [
    "selector = \"#today_main_news > div.hdline_news > ul > li:nth-child(1)\" #selector라는 이름을 가진 변수에 요소 정의하기\n",
    "\n",
    "selector_list = selector.split(\">\")  # \">\"를 기준으로 구분자를 만들고 split 해주기\n",
    "selector_list[-1] = selector_list[-1].split(\":\")[0] # \":\"를 기준으로 split 해준 후 그 이전까지만 출력하기\n",
    "\n",
    "\">\".join(selector_list)  # \">\"와 selector_list에 넣어준 요소를 join"
   ]
  },
  {
   "cell_type": "markdown",
   "id": "e74bc040",
   "metadata": {},
   "source": [
    "# 2. list comprehension으로 만드는 구구단\n",
    "PR5 문제 3번에서 만들었던 구구단 계산기를 list comprehension으로 구현해보고자 한다.\n",
    "\n",
    "> ***Q*** : list comprehension을 사용하여 구구단을 연산하는 함수 gugu_com을 작성하고 구구단 7단을 출력하시오."
   ]
  },
  {
   "cell_type": "markdown",
   "id": "baa9b897",
   "metadata": {},
   "source": [
    "# 출력 결과 예시"
   ]
  },
  {
   "cell_type": "code",
   "execution_count": 21,
   "id": "f29501d4",
   "metadata": {
    "scrolled": true
   },
   "outputs": [
    {
     "name": "stdout",
     "output_type": "stream",
     "text": [
      "2 x 1 = 2\n",
      "2 x 2 = 4\n",
      "2 x 3 = 6\n",
      "2 x 4 = 8\n",
      "2 x 5 = 10\n",
      "2 x 6 = 12\n",
      "2 x 7 = 14\n",
      "2 x 8 = 16\n",
      "2 x 9 = 18\n"
     ]
    }
   ],
   "source": [
    "gugu_com(x=2)\n",
    "\n",
    "#  2 x 1 = 2\n",
    "#  2 x 2 = 4\n",
    "#  2 x 3 = 6\n",
    "#  2 x 4 = 8\n",
    "#  2 x 5 = 10\n",
    "#  2 x 6 = 12\n",
    "#  2 x 7 = 14\n",
    "#  2 x 8 = 16\n",
    "#  2 x 9 = 18\n"
   ]
  },
  {
   "cell_type": "code",
   "execution_count": 50,
   "id": "7b6565dc",
   "metadata": {
    "scrolled": true
   },
   "outputs": [
    {
     "name": "stdout",
     "output_type": "stream",
     "text": [
      "2 x 1 = 2\n",
      "2 x 2 = 4\n",
      "2 x 3 = 6\n",
      "2 x 4 = 8\n",
      "2 x 5 = 10\n",
      "2 x 6 = 12\n",
      "2 x 7 = 14\n",
      "2 x 8 = 16\n",
      "2 x 9 = 18\n"
     ]
    }
   ],
   "source": [
    "def gugu_com(x=2) :   # gugu_com 이라는 함수 정의하기\n",
    "    [print(f\"{x} x {i} = {x*i}\") for i in range(1,10)]   # !부터 9까지 반복적으로 i에 삽입하고, x와 곱셈한 후 print 하는 함수 만들기\n",
    "           \n",
    "gugu_com(2)  # 구구단 연산하는 함수 gugu_com을 출력하기"
   ]
  },
  {
   "cell_type": "markdown",
   "id": "11098e14",
   "metadata": {},
   "source": [
    "# 3. 두 주사위의 곱"
   ]
  },
  {
   "cell_type": "markdown",
   "id": "d57618e4",
   "metadata": {},
   "source": [
    "> ***Q*** : list comprehension을 사용하여, 힌트를 제외하고는 한줄의 코드로 해당 결과를 가지는 이차원 리스트를 만드시오."
   ]
  },
  {
   "cell_type": "markdown",
   "id": "53420676",
   "metadata": {},
   "source": [
    "# 출력결과 예시"
   ]
  },
  {
   "cell_type": "code",
   "execution_count": 27,
   "id": "66b61eee",
   "metadata": {},
   "outputs": [],
   "source": [
    "## CDOE\n",
    "\n",
    "## [[1,2,3,4,5,6,],\n",
    "##  [2,4,6,8,10,12],\n",
    "##  [3,6,9,12,15,18],\n",
    "##  [4,8,12,16,20,24],\n",
    "##  [5,10,15,20,25,30],\n",
    "##  [6,12,18,24,30,36]]"
   ]
  },
  {
   "cell_type": "markdown",
   "id": "8399d9f5",
   "metadata": {},
   "source": [
    "# HINT\n",
    "1. 한개의 주사위는 다음과 같이 표현할 수 있습니다.\n"
   ]
  },
  {
   "cell_type": "markdown",
   "id": "5db9ec1f",
   "metadata": {},
   "source": [
    "die = [i for i in range(1,7)]"
   ]
  },
  {
   "cell_type": "code",
   "execution_count": 29,
   "id": "34a6f103",
   "metadata": {},
   "outputs": [
    {
     "data": {
      "text/plain": [
       "[[1, 2, 3, 4, 5, 6],\n",
       " [2, 4, 6, 8, 10, 12],\n",
       " [3, 6, 9, 12, 15, 18],\n",
       " [4, 8, 12, 16, 20, 24],\n",
       " [5, 10, 15, 20, 25, 30],\n",
       " [6, 12, 18, 24, 30, 36]]"
      ]
     },
     "execution_count": 29,
     "metadata": {},
     "output_type": "execute_result"
    }
   ],
   "source": [
    "die = [i for i in range(1,7)]  # 변수 die에 1부터 6을 입력해주기\n",
    "\n",
    "[[j*i for i in die]for j in die]  #1부터 6의 순서대로 1부터 6을 곱셈한 결과를 출력하기\n"
   ]
  },
  {
   "cell_type": "markdown",
   "id": "1b122092",
   "metadata": {},
   "source": [
    "# 4. 두 주사위의 합\n"
   ]
  },
  {
   "cell_type": "markdown",
   "id": "0400d844",
   "metadata": {},
   "source": [
    "> ***Q*** : 이것을 6x6 크기의 2차원 리스트로 생성하고, 인덱싱을 통해 2+6의 값을 2가지 방법으로 나타내시오. (2차원 리스트 생성시 방법의 제한은 없습니다.)"
   ]
  },
  {
   "cell_type": "code",
   "execution_count": 32,
   "id": "3bab6f67",
   "metadata": {},
   "outputs": [
    {
     "name": "stdout",
     "output_type": "stream",
     "text": [
      "8\n",
      "8\n"
     ]
    }
   ],
   "source": [
    "dice_sum = [[2,3,4,5,6,7],\n",
    "             [3,4,5,6,7,8],\n",
    "             [4,5,6,7,8,9],\n",
    "             [5,6,7,8,9,10],\n",
    "             [6,7,8,9,10,11],\n",
    "             [7,8,9,10,11,12]]  # 나올 수 있는 모든 경우의 수를 직접 작성하기\n",
    "\n",
    "print(dice_sum[1][5])  # 2+6의 경우\n",
    "print(dice_sum[5][1])  # 6+2의 경우"
   ]
  },
  {
   "cell_type": "code",
   "execution_count": 3,
   "id": "c925e9a6",
   "metadata": {},
   "outputs": [
    {
     "name": "stdout",
     "output_type": "stream",
     "text": [
      "8\n",
      "8\n"
     ]
    }
   ],
   "source": [
    "die = [i for i in range(1,7)]  # 변수 die에 1부터 6 입력해주기\n",
    "\n",
    "dice_sum = [[j+i for i in die] for j in die]  #1부터 6의 순서대로 1부터 6을 더해준 결과를 출력하기\n",
    "\n",
    "print(dice_sum[1][5])  # 2+6의 경우\n",
    "print(dice_sum[5][1])  # 6+2의 경우"
   ]
  },
  {
   "cell_type": "markdown",
   "id": "e7743de2",
   "metadata": {},
   "source": [
    "# 도전문제\n",
    "---"
   ]
  },
  {
   "cell_type": "markdown",
   "id": "8c95c726",
   "metadata": {},
   "source": [
    "# 표절 검사 프로그램\n",
    "**강의노트 07 자료구조 collections 설명 참고**\n",
    "\n",
    "아주대학교 글로벌 경영학과의 한 교수님은 과제의 표절 검사를 쉽게 하기 위해 Python을 통한 간단한 표절 검사 프로그램을 작성해보고자 한다.\n",
    "\n",
    "현재 구상 중인 프로그램은 복잡한 알고리즘을 필요로하지 않고, 간단하게 단어 빈도를 기반으로 하여, 그 유사도를 측정하고자 한다."
   ]
  },
  {
   "cell_type": "code",
   "execution_count": 33,
   "id": "3aa440a8",
   "metadata": {},
   "outputs": [],
   "source": [
    "from collections import defaultdict, Counter\n",
    "\n",
    "text = \"\"\"Python is a very simple programming language so even if you are new to programming, you can learn python without facing any issues.\"\"\"\n",
    "\n",
    "text2 = \"\"\"C is a very difficult programming language so even if you are good at programming, you can learn c with facing any issues.\"\"\"\n",
    "\n",
    "text3 = \"\"\"R Programming is good at statistical analysis. you can learn easily\"\"\""
   ]
  },
  {
   "cell_type": "markdown",
   "id": "bf2929ad",
   "metadata": {},
   "source": [
    "## 문제 1\n",
    "> ***Q*** : defaultdict를 활용하여 text를 입력받으면 단어별 빈도를 측정하여 반환하는 함수 word_counter를 만드시오."
   ]
  },
  {
   "cell_type": "markdown",
   "id": "957ac1b3",
   "metadata": {},
   "source": [
    "## HINT\n",
    "1. Collections 모듈의 defaultdict는 단순한 dict와 다르게, 인덱싱에서 key 값이 없으면 오류가 아닌 0을 기본값으로 가지게 한다."
   ]
  },
  {
   "cell_type": "code",
   "execution_count": 64,
   "id": "57a6c38e",
   "metadata": {},
   "outputs": [
    {
     "ename": "KeyError",
     "evalue": "'key'",
     "output_type": "error",
     "traceback": [
      "\u001b[1;31m---------------------------------------------------------------------------\u001b[0m",
      "\u001b[1;31mKeyError\u001b[0m                                  Traceback (most recent call last)",
      "\u001b[1;32m<ipython-input-64-63b6292e7685>\u001b[0m in \u001b[0;36m<module>\u001b[1;34m\u001b[0m\n\u001b[0;32m      1\u001b[0m \u001b[0mword_dict\u001b[0m \u001b[1;33m=\u001b[0m \u001b[0mdict\u001b[0m\u001b[1;33m(\u001b[0m\u001b[1;33m)\u001b[0m\u001b[1;33m\u001b[0m\u001b[1;33m\u001b[0m\u001b[0m\n\u001b[1;32m----> 2\u001b[1;33m \u001b[0mword_dict\u001b[0m\u001b[1;33m[\u001b[0m\u001b[1;34m\"key\"\u001b[0m\u001b[1;33m]\u001b[0m\u001b[1;33m\u001b[0m\u001b[1;33m\u001b[0m\u001b[0m\n\u001b[0m\u001b[0;32m      3\u001b[0m \u001b[1;33m\u001b[0m\u001b[0m\n\u001b[0;32m      4\u001b[0m \u001b[1;31m## KeyError\u001b[0m\u001b[1;33m\u001b[0m\u001b[1;33m\u001b[0m\u001b[1;33m\u001b[0m\u001b[0m\n\u001b[0;32m      5\u001b[0m \u001b[1;33m\u001b[0m\u001b[0m\n",
      "\u001b[1;31mKeyError\u001b[0m: 'key'"
     ]
    }
   ],
   "source": [
    "word_dict = dict()\n",
    "word_dict[\"key\"]\n",
    "\n",
    "## KeyError\n",
    "\n",
    "\n",
    "word_dict = defaultdict(lambda : 0)\n",
    "word_dict[\"key\"]\n",
    "## 0\n",
    "\n",
    "word_dict[\"text\"] += 1\n",
    "word_dict[\"text\"]\n",
    "## 1\n",
    "\n",
    "\n"
   ]
  },
  {
   "cell_type": "markdown",
   "id": "19bad010",
   "metadata": {},
   "source": [
    "1. 유사도 측정을 위해 문장을 단어별로 분할해야하며, 편의를 위해 모두 소문자로 바꿔준다.\n",
    " - split\n",
    " - lower"
   ]
  },
  {
   "cell_type": "code",
   "execution_count": 37,
   "id": "21b11d30",
   "metadata": {},
   "outputs": [],
   "source": [
    "def word_counter(text) : \n",
    "    word_count = defaultdict(lambda :0)  # 앞에서 불러와준 collections 모듈에서의 defaultdict을 사용하여 0을 기본 값으로 설정하고 word_count에 넣어주기\n",
    "    for word in text.lower().split():  # 매개변수 text를 우선 split 해준 후 lower을 사용하여 소문자로 변환하는 일련의 과정을 반복하기\n",
    "        word_count[word] += 1  # 반복의 과정을 통해 해당 word를 1을 더해줌으로써 count해주기\n",
    "        \n",
    "    return word_count  # 반복해준 결과값인 word_count를 반환한다."
   ]
  },
  {
   "cell_type": "code",
   "execution_count": 38,
   "id": "01598443",
   "metadata": {},
   "outputs": [
    {
     "data": {
      "text/plain": [
       "defaultdict(<function __main__.word_counter.<locals>.<lambda>()>,\n",
       "            {'python': 2,\n",
       "             'is': 1,\n",
       "             'a': 1,\n",
       "             'very': 1,\n",
       "             'simple': 1,\n",
       "             'programming': 1,\n",
       "             'language': 1,\n",
       "             'so': 1,\n",
       "             'even': 1,\n",
       "             'if': 1,\n",
       "             'you': 2,\n",
       "             'are': 1,\n",
       "             'new': 1,\n",
       "             'to': 1,\n",
       "             'programming,': 1,\n",
       "             'can': 1,\n",
       "             'learn': 1,\n",
       "             'without': 1,\n",
       "             'facing': 1,\n",
       "             'any': 1,\n",
       "             'issues.': 1})"
      ]
     },
     "execution_count": 38,
     "metadata": {},
     "output_type": "execute_result"
    }
   ],
   "source": [
    "word_counter(text)"
   ]
  },
  {
   "cell_type": "markdown",
   "id": "cef39037",
   "metadata": {},
   "source": [
    "## 문제2\n",
    "> ***Q*** : 도전문제 1의 word_counter 활용하여 text와 text2의 유사도와 text와 text3의 유사도를 구하시오."
   ]
  },
  {
   "cell_type": "markdown",
   "id": "901c5b82",
   "metadata": {},
   "source": [
    "## HINT\n",
    "1. collections 모듈의 Counter는 dict의 형태이지만 Counter들 간의 덧셈, 뺄셈 연산이 가능하며 defaultdict를 Counter로 변환할 수 있다."
   ]
  },
  {
   "cell_type": "code",
   "execution_count": 40,
   "id": "a89142e0",
   "metadata": {},
   "outputs": [
    {
     "data": {
      "text/plain": [
       "Counter({'b': 1, 'c': 2})"
      ]
     },
     "execution_count": 40,
     "metadata": {},
     "output_type": "execute_result"
    }
   ],
   "source": [
    "Counter({\"a\":1,\"b\":2,\"c\":3}) - Counter({\"a\":1,\"b\":1,\"c\":1})\n",
    "\n",
    "## Counter({\"b':1, 'c':2})"
   ]
  },
  {
   "cell_type": "markdown",
   "id": "d2f7bb59",
   "metadata": {},
   "source": [
    "1. dictionary 형태의 모든 자료구조는, values()를 통해 calue 값만 추출할 수 있다."
   ]
  },
  {
   "cell_type": "code",
   "execution_count": 44,
   "id": "5ed54301",
   "metadata": {},
   "outputs": [
    {
     "data": {
      "text/plain": [
       "6"
      ]
     },
     "execution_count": 44,
     "metadata": {},
     "output_type": "execute_result"
    }
   ],
   "source": [
    "sum(Counter({\"a\":1, \"b\":2, \"c\" :3}).values()) # 전체 단어수 합\n",
    "\n",
    "## 6"
   ]
  },
  {
   "cell_type": "markdown",
   "id": "61e76aa1",
   "metadata": {},
   "source": [
    "1. Counter(A)가 Counter(B)와 얼마나 유사한지는 다음과 같은 공식을 따른다고 한다. (시그마는 해당 Counter **dict** 안의 **value** 값을 모두 합하라는 의미)\n",
    "\n",
    "## (1−(∑(Counter(A)−Counter(B))/∑Counter(A)))×100\n"
   ]
  },
  {
   "cell_type": "code",
   "execution_count": 45,
   "id": "403af501",
   "metadata": {},
   "outputs": [],
   "source": [
    "def text_similarity(text_count_1, text_count_2) : \n",
    "    text1_count = Counter(text_count_1)\n",
    "    text2_count = Counter(text_count_2)\n",
    "\n",
    "# 앞에서 불러와준 collections 모듈에서의 counter를 dict의 연산을 통해 공통되는 단어 수를 계산하여 넣어주기\n",
    "    \n",
    "    word_total = sum(text1_count.values())\n",
    "    word_diff = sum((text1_count - text2_count).values())\n",
    "    \n",
    "    return ( 1- word_diff / word_total) * 100\n",
    "\n",
    "# 계산하여 넣어준 단어에 대한 개수를 더하여 유사도 확인하기\n"
   ]
  },
  {
   "cell_type": "code",
   "execution_count": 47,
   "id": "f54b13d9",
   "metadata": {},
   "outputs": [
    {
     "data": {
      "text/plain": [
       "73.91304347826086"
      ]
     },
     "execution_count": 47,
     "metadata": {},
     "output_type": "execute_result"
    }
   ],
   "source": [
    "text_similarity(word_counter(text), word_counter(text2))"
   ]
  },
  {
   "cell_type": "code",
   "execution_count": 48,
   "id": "44e4d886",
   "metadata": {},
   "outputs": [
    {
     "data": {
      "text/plain": [
       "21.739130434782606"
      ]
     },
     "execution_count": 48,
     "metadata": {},
     "output_type": "execute_result"
    }
   ],
   "source": [
    "text_similarity(word_counter(text),word_counter(text3))"
   ]
  }
 ],
 "metadata": {
  "kernelspec": {
   "display_name": "Python 3",
   "language": "python",
   "name": "python3"
  },
  "language_info": {
   "codemirror_mode": {
    "name": "ipython",
    "version": 3
   },
   "file_extension": ".py",
   "mimetype": "text/x-python",
   "name": "python",
   "nbconvert_exporter": "python",
   "pygments_lexer": "ipython3",
   "version": "3.8.8"
  }
 },
 "nbformat": 4,
 "nbformat_minor": 5
}
