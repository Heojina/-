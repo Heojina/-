{
 "cells": [
  {
   "cell_type": "markdown",
   "id": "82c41477",
   "metadata": {},
   "source": [
    "# 파이썬 스타일 코드2 - 연습해보기\n",
    "### e-비즈니스학과 201921507 허진아\n",
    "\n",
    "# 실습코드\n",
    "---"
   ]
  },
  {
   "cell_type": "markdown",
   "id": "a1cf7208",
   "metadata": {},
   "source": [
    "# 1. 람다 함수\n",
    "   - 람다(lambda)함수는 함수의 이름 없이, 함수처럼 사용할 수 있는 익명의 함수를 말한다.선형 대수나 미적분 등의 과목을 수강하다보면, 한 번쯤 람다 대수라는 표현을 들어보았을 것이다. 람다 함수의 '람다'는 바로 이 람다 대수에서 유래하였다. 일반적으로 람다 함수는 이름을 지정하지 않아도 사용할 수 있다."
   ]
  },
  {
   "cell_type": "markdown",
   "id": "61996539",
   "metadata": {},
   "source": [
    "## 1.1 기존 함수"
   ]
  },
  {
   "cell_type": "code",
   "execution_count": 5,
   "id": "6cb09163",
   "metadata": {},
   "outputs": [
    {
     "name": "stdout",
     "output_type": "stream",
     "text": [
      "5\n"
     ]
    }
   ],
   "source": [
    "def f(x,y):\n",
    "    return x + y  # x와 y를 더해준 결과를 return 해주는 함수를 생성하기\n",
    "\n",
    "print(f(1,4))  # 1과 4를 인수로 가진 함수를 출력하기"
   ]
  },
  {
   "cell_type": "markdown",
   "id": "192e919d",
   "metadata": {},
   "source": [
    "## 1.2 lambda 함수 할당"
   ]
  },
  {
   "cell_type": "code",
   "execution_count": 6,
   "id": "4b7ab257",
   "metadata": {},
   "outputs": [
    {
     "name": "stdout",
     "output_type": "stream",
     "text": [
      "5\n"
     ]
    }
   ],
   "source": [
    "f = lambda x,y : x+ y  # lambda f에 x와 y를 입력하면 x+y가 반환\n",
    "print(f(1,4))  #1과 4를 인수로 가진 함수를 출력하기"
   ]
  },
  {
   "cell_type": "markdown",
   "id": "3937db4f",
   "metadata": {},
   "source": [
    "## 1.3 익명의 lambda 함수"
   ]
  },
  {
   "cell_type": "code",
   "execution_count": 10,
   "id": "1deffb3d",
   "metadata": {},
   "outputs": [
    {
     "name": "stdout",
     "output_type": "stream",
     "text": [
      "5\n"
     ]
    }
   ],
   "source": [
    "print((lambda x, y: x + y)(1,4))  # 인자를 한번에 넣어 출력하기"
   ]
  },
  {
   "cell_type": "markdown",
   "id": "c06e9301",
   "metadata": {},
   "source": [
    "# 맵리듀스\n",
    "## 2.1 map 함수\n",
    "연속 데이터를 저장하는 시퀀스 자료형에서 요소마다 같은 기능을 적용할 때 사용한다. 일반적으로 리스트나 튜플 처럼 요소가 있는 시퀀스 자료형에 사용된다. 다음의 사용 예제를 보자."
   ]
  },
  {
   "cell_type": "code",
   "execution_count": 11,
   "id": "8b74b654",
   "metadata": {},
   "outputs": [
    {
     "name": "stdout",
     "output_type": "stream",
     "text": [
      "[1, 4, 9, 16, 25]\n"
     ]
    }
   ],
   "source": [
    "ex = [1,2,3,4,5]\n",
    "f = lambda x:x**2\n",
    "print(list(map(f,ex)))"
   ]
  },
  {
   "cell_type": "markdown",
   "id": "b5bccf6e",
   "metadata": {},
   "source": [
    "- 코드 설명\n",
    "\n",
    "  - 위 코드에서는 먼저 ex라는 이름의 리스트를 만들고, 입력된 값을 제곱하는 람다함수 f를 생성하였다. 그리고 'map(함수이름, 리스트 데이터)'의 구조에서 map(f,ex) 코드를 실행한다. 이는 해당 코드로 함수 f를 ex의 각 요소에 매핑하라는 뜻이다.\n",
    "  - 파이썬 2.x와 3.x의 차이는 제너레이터의 사용인데 3.x 부터는 map()함수의 기본 반환이 제너레이터이므로 list() 함수를 사용해야 리스트로 반환된다.\n",
    "  - 제너레이터(generator)는 시퀀스 자료형의 데이터를 처리할 때, 실행 시점의 값을 생성하여 효율적으로 메모리를 관리할 수 있다는 장점이 있따.\n",
    "  - 만일 list를 붙이지 않는다면, 다음 코드처럼 코딩할 수도 있다. 여기서 함수는 반드시 람다함수일 필요는 없고, 일반 함수를 만들어 사용해도 문제 없다."
   ]
  },
  {
   "cell_type": "code",
   "execution_count": 12,
   "id": "1d5465d9",
   "metadata": {
    "scrolled": true
   },
   "outputs": [
    {
     "name": "stdout",
     "output_type": "stream",
     "text": [
      "1\n",
      "4\n",
      "9\n",
      "16\n",
      "25\n"
     ]
    }
   ],
   "source": [
    "ex=[1,2,3,4,5]  \n",
    "f=lambda x:x**2 \n",
    "for value in map(f,ex):  # list로 반환한 이전의 코드와는 달리 일반 함수로 만들어 출력해주기\n",
    "    print(value)  # list가 아니기에 출력방식이 상이"
   ]
  },
  {
   "cell_type": "markdown",
   "id": "3067db0d",
   "metadata": {},
   "source": [
    "- 리스트 컴프리헨션과 비교\n",
    "\n",
    "최근에 람다함수나 map()함수를 프로그램 개발에 사용하는 것을 권장하지 않는다. 굳이 두 함수를 쓰지 않더라도 리스트 컴프리헨션 기법으로 얼마든지 같은 효과를 낼 수 있기 때문이다. 만약 위 코드를 리스트 컴프리헨션으로 변경하고자 한다면, 다음처럼 코딩하면 된다."
   ]
  },
  {
   "cell_type": "code",
   "execution_count": 35,
   "id": "82ce7fc3",
   "metadata": {},
   "outputs": [
    {
     "data": {
      "text/plain": [
       "[1, 4, 9, 16, 25]"
      ]
     },
     "execution_count": 35,
     "metadata": {},
     "output_type": "execute_result"
    }
   ],
   "source": [
    "ex = [1, 2, 3, 4, 5]  # 변수 ex에 1부터 5까지의 수를 넣어주기\n",
    "[x**2 for x in ex]  # 1~5까지의 숫자가 입력되어 있는 ex에서의 숫자를 하나씩 꺼내 그 숫자의 제곱한 값을 반환하기"
   ]
  },
  {
   "cell_type": "markdown",
   "id": "615924ad",
   "metadata": {},
   "source": [
    "- 한개 이상의 시퀀스 자료형 데이터의 처리\n",
    "\n",
    "map()함수는 2개 이상의 시퀀스 자료형 데이터를 처리하는 데도 문제가 없다."
   ]
  },
  {
   "cell_type": "code",
   "execution_count": 15,
   "id": "48e1d7a6",
   "metadata": {},
   "outputs": [
    {
     "data": {
      "text/plain": [
       "[2, 4, 6, 8, 10]"
      ]
     },
     "execution_count": 15,
     "metadata": {},
     "output_type": "execute_result"
    }
   ],
   "source": [
    "ex=[1,2,3,4,5]\n",
    "f=lambda x,y:x+y\n",
    "list(map(f,ex,ex))  # 연속 데이터를 저장하는 시퀀스 자료형에서 요소마다 같은 기능을 적용하여 숫자가 정의되어 있는 ex에서의 각각의 숫자를  더해주기"
   ]
  },
  {
   "cell_type": "code",
   "execution_count": 16,
   "id": "f10ee40e",
   "metadata": {},
   "outputs": [
    {
     "data": {
      "text/plain": [
       "[2, 4, 6, 8, 10]"
      ]
     },
     "execution_count": 16,
     "metadata": {},
     "output_type": "execute_result"
    }
   ],
   "source": [
    "[x+y for x,y in zip(ex,ex)] # 리스트 컴프리헨션 용법"
   ]
  },
  {
   "cell_type": "markdown",
   "id": "140634c3",
   "metadata": {},
   "source": [
    "## 2.2 reduce 함수\n",
    "\n",
    "- map() 함수와 다르지만 형제처럼 사용하는 함수로 리스트와 같은 시퀀스 자료형에 차례대로 함수를 적용하여 모든 값을 통합하는 함수이다.\n",
    "- lambda 함수와 함께 쓰여 좀 복잡해 보여 예전에는 많이 쓰였으나 최근 버전에서는 사용을 권장하지 않는다. 그러나 많은 코드들이 여전히 사용하고 있어 이해차원에서 배울 필요가 있다. "
   ]
  },
  {
   "cell_type": "code",
   "execution_count": 17,
   "id": "0cf9360f",
   "metadata": {},
   "outputs": [
    {
     "name": "stdout",
     "output_type": "stream",
     "text": [
      "15\n"
     ]
    }
   ],
   "source": [
    "from functools import reduce   # functools로 부터 reduce를 가져오기\n",
    "print(reduce(lambda x,y:x+y, [1,2,3,4,5]))  # lambda 함수를 사용하여 x,y 차례대로 적용하여 더해주고 reduce를 사용해주기"
   ]
  },
  {
   "cell_type": "markdown",
   "id": "4559f1fb",
   "metadata": {},
   "source": [
    "- 비교 코드"
   ]
  },
  {
   "cell_type": "code",
   "execution_count": 18,
   "id": "5665dc21",
   "metadata": {},
   "outputs": [
    {
     "name": "stdout",
     "output_type": "stream",
     "text": [
      "15\n"
     ]
    }
   ],
   "source": [
    "x=0  # 사전에 x에 0을 정의하기\n",
    "for y in [1,2,3,4,5]: \n",
    "    x += y  # 하나씩 꺼내어 모두 더해주기\n",
    "print(x)"
   ]
  },
  {
   "cell_type": "markdown",
   "id": "75c6c459",
   "metadata": {},
   "source": [
    "# 3. 별표의 활용\n",
    "## 3.1 가변 인수로 활용\n",
    "- 가변 인수"
   ]
  },
  {
   "cell_type": "code",
   "execution_count": 19,
   "id": "7a5ff60b",
   "metadata": {},
   "outputs": [
    {
     "name": "stdout",
     "output_type": "stream",
     "text": [
      "1 (2, 3, 4, 5, 6)\n",
      "<class 'tuple'>\n"
     ]
    }
   ],
   "source": [
    "def asterisk_test(a, *args):  #asterisk_test 함수를 정의하기\n",
    "    print(a,args)\n",
    "    print(type(args))  # 정의해준 함수의 이름으로 튜플의 타입을 정의해주기\n",
    "\n",
    "asterisk_test(1,2,3,4,5,6)"
   ]
  },
  {
   "cell_type": "markdown",
   "id": "d3a9f65e",
   "metadata": {},
   "source": [
    "- 키워드 가변 인수"
   ]
  },
  {
   "cell_type": "code",
   "execution_count": 36,
   "id": "62483351",
   "metadata": {},
   "outputs": [
    {
     "name": "stdout",
     "output_type": "stream",
     "text": [
      "1 {'b': 2, 'c': 3, 'd': 4, 'e': 5, 'f': 6}\n",
      "<class 'dict'>\n"
     ]
    }
   ],
   "source": [
    "def asterisk_test(a,**kargs):\n",
    "    print(a,kargs)\n",
    "    print(type(kargs))  # 정의해준 함수의 이름으로 딕셔너리의 타입을 정의해주기\n",
    "asterisk_test(1,b=2,c=3,d=4,e=5,f=6)"
   ]
  },
  {
   "cell_type": "markdown",
   "id": "5083fc7b",
   "metadata": {},
   "source": [
    "## 3.2 별표의 언패킹 가능\n",
    "- 함수에서의 사용"
   ]
  },
  {
   "cell_type": "code",
   "execution_count": 38,
   "id": "a73b8730",
   "metadata": {},
   "outputs": [
    {
     "name": "stdout",
     "output_type": "stream",
     "text": [
      "1 2 3 4 5 6\n",
      "<class 'tuple'>\n"
     ]
    }
   ],
   "source": [
    "def asterisk_test(a,args):\n",
    "    print(a,*args)\n",
    "    print(type(args))\n",
    "asterisk_test(1,(2,3,4,5,6))  # 함수로써 사용을 통해 적용시켜주는 방법"
   ]
  },
  {
   "cell_type": "code",
   "execution_count": 39,
   "id": "d6ff3625",
   "metadata": {},
   "outputs": [
    {
     "name": "stdout",
     "output_type": "stream",
     "text": [
      "1 (2, 3, 4, 5, 6)\n",
      "<class 'tuple'>\n"
     ]
    }
   ],
   "source": [
    "def asterisk_test(a,args):\n",
    "    print(a,args)\n",
    "    print(type(args))\n",
    "asterisk_test(1,(2,3,4,5,6))  # 넣어준 값을 그대로 out 되도록 하기"
   ]
  },
  {
   "cell_type": "markdown",
   "id": "c47596de",
   "metadata": {},
   "source": [
    "- 일반 자료형에서의 사용"
   ]
  },
  {
   "cell_type": "code",
   "execution_count": 21,
   "id": "5d046de4",
   "metadata": {},
   "outputs": [
    {
     "name": "stdout",
     "output_type": "stream",
     "text": [
      "[1, 2] [3, 4] [5, 6]\n",
      "[1, 2] [3, 4] [5, 6]\n"
     ]
    }
   ],
   "source": [
    "a,b,c=([1,2], [3,4], [5,6])  # a,b,c 각각에 리스트 넣어주기\n",
    "print(a,b,c)\n",
    "data=([1,2], [3,4], [5,6])  # 변수 data에 각각의 정의해준 리스트로 이루어진 튜플을 넣기\n",
    "print(*data)  #  data에 있는 값이 그대로 출력"
   ]
  },
  {
   "cell_type": "markdown",
   "id": "783d8d22",
   "metadata": {},
   "source": [
    "- zip 함수와의 응용"
   ]
  },
  {
   "cell_type": "code",
   "execution_count": 22,
   "id": "c8118f84",
   "metadata": {},
   "outputs": [
    {
     "name": "stdout",
     "output_type": "stream",
     "text": [
      "(1, 3, 5)\n",
      "<class 'tuple'>\n",
      "(2, 4, 6)\n",
      "<class 'tuple'>\n"
     ]
    }
   ],
   "source": [
    "for data in zip(*[[1,2],[3,4],[5,6]]):\n",
    "    print(data)\n",
    "    print(type(data))"
   ]
  },
  {
   "cell_type": "markdown",
   "id": "c83cd9fa",
   "metadata": {},
   "source": [
    "- 키워드 가변 인수 응용"
   ]
  },
  {
   "cell_type": "code",
   "execution_count": 23,
   "id": "67e62527",
   "metadata": {},
   "outputs": [
    {
     "name": "stdout",
     "output_type": "stream",
     "text": [
      "10 1 2 3\n"
     ]
    }
   ],
   "source": [
    "def asterisk_test(a,b,c,d):\n",
    "    print(a,b,c,d)\n",
    "data={\"b\":1, \"c\":2, \"d\":3}  # datad에 a,b,c를 딕셔너리 형태로 정의하기\n",
    "asterisk_test(10, **data)  # 정의해준 data를 그대로 가져와 입력해주기"
   ]
  },
  {
   "cell_type": "markdown",
   "id": "7255e8a4",
   "metadata": {},
   "source": [
    "# 선형대수학\n",
    "## 4.1 파이썬 스타일코드로 표현한 벡터"
   ]
  },
  {
   "cell_type": "code",
   "execution_count": 24,
   "id": "752fe0eb",
   "metadata": {},
   "outputs": [],
   "source": [
    "vector_a=[1,2,10]  # 리스트로 표현한 경우\n",
    "vector_b=(1,2,10)   # 튜플로 표현한 경우\n",
    "vector_c={'x':1, 'y':2, 'z':10}  # 딕셔너리로 표현한 경우"
   ]
  },
  {
   "cell_type": "markdown",
   "id": "78640c20",
   "metadata": {},
   "source": [
    "- 벡터의 연산 : 벡터 합"
   ]
  },
  {
   "cell_type": "code",
   "execution_count": 25,
   "id": "b2e5a8d1",
   "metadata": {},
   "outputs": [
    {
     "name": "stdout",
     "output_type": "stream",
     "text": [
      "[7, 10]\n"
     ]
    }
   ],
   "source": [
    "u=[2,2]\n",
    "v=[2,3]\n",
    "z=[3,5]\n",
    "result=[]\n",
    "\n",
    "# u,v,z 값에 리스트를 넣어주기\n",
    "# result에는 빈 리스트 생성하기\n",
    "\n",
    "for i in range(len(u)):\n",
    "    result.append(u[i]+v[i]+z[i])\n",
    "print(result)  # u,v,z 값들을 순서대로 append해준 결과를 출력함으로써 빈 리스트에 해당 값이 정의"
   ]
  },
  {
   "cell_type": "markdown",
   "id": "46d0ffc0",
   "metadata": {},
   "source": [
    "- 별표를 사용한 함수화"
   ]
  },
  {
   "cell_type": "code",
   "execution_count": 26,
   "id": "02580957",
   "metadata": {},
   "outputs": [
    {
     "data": {
      "text/plain": [
       "[7, 10]"
      ]
     },
     "execution_count": 26,
     "metadata": {},
     "output_type": "execute_result"
    }
   ],
   "source": [
    "def vector_addition(*args):\n",
    "    return [sum(t) for t in zip(*args)]   # unpacking 통해 zip(u,v,z) 효과를 낼 수 있음.\n",
    "\n",
    "vector_addition(u,v,z)"
   ]
  },
  {
   "cell_type": "markdown",
   "id": "7b40d462",
   "metadata": {},
   "source": [
    "- 간단한 두벡터의 합"
   ]
  },
  {
   "cell_type": "code",
   "execution_count": 27,
   "id": "89110793",
   "metadata": {},
   "outputs": [
    {
     "data": {
      "text/plain": [
       "[3, 3]"
      ]
     },
     "execution_count": 27,
     "metadata": {},
     "output_type": "execute_result"
    }
   ],
   "source": [
    "a = [1, 1]\n",
    "b = [2, 2]\n",
    "\n",
    "[x + y for x, y in zip(a, b)]  # zip을 통해 a와b를 리스트 컴프리핸션해주기"
   ]
  },
  {
   "cell_type": "markdown",
   "id": "e0dc989c",
   "metadata": {},
   "source": [
    "- 벡터의 연산 : 스칼라 곱"
   ]
  },
  {
   "cell_type": "code",
   "execution_count": 41,
   "id": "b4e60a02",
   "metadata": {},
   "outputs": [
    {
     "data": {
      "text/plain": [
       "[10, 12, 14]"
      ]
     },
     "execution_count": 41,
     "metadata": {},
     "output_type": "execute_result"
    }
   ],
   "source": [
    "u=[1,2,3]\n",
    "v=[4,4,4]\n",
    "\n",
    "alpha=2\n",
    "\n",
    "result=[alpha*sum(t) for t in zip(u,v)]  # u,v를 zip을 활용하여 t에 연속적으로 입력해주고 위에서 정의해준 alpha 값에 t를 곱해주기\n",
    "result"
   ]
  },
  {
   "cell_type": "markdown",
   "id": "cb872c30",
   "metadata": {},
   "source": [
    "## 4.2 파이썬 스타일코드로 표현한 행렬\n",
    "- 딕셔너리로 표현하는 경우 좌표정보나 이름정보를 넣을 수 있으나 복잡함"
   ]
  },
  {
   "cell_type": "code",
   "execution_count": 29,
   "id": "7b2e3222",
   "metadata": {},
   "outputs": [],
   "source": [
    "matrix_a=[[3,6], [4,5]] #리스트로 표현한 경우\n",
    "matrix_b=[(3,6), (4,5)] #튜플로 표현한 경우\n",
    "matrix_c={(0,0):3, (0,1):6, (1,0):4, (1,1):5}  #디셔너리로 표현한경우"
   ]
  },
  {
   "cell_type": "markdown",
   "id": "0ab0a0bb",
   "metadata": {},
   "source": [
    "- 행렬의 연산 : 행렬의 element-wise 합"
   ]
  },
  {
   "cell_type": "code",
   "execution_count": 30,
   "id": "8d2ae573",
   "metadata": {},
   "outputs": [
    {
     "name": "stdout",
     "output_type": "stream",
     "text": [
      "[[8, 14], [10, 12]]\n"
     ]
    }
   ],
   "source": [
    "matrix_a=[[3,6], [4,5]]\n",
    "matrix_b=[[5,8], [6,7]]\n",
    "\n",
    "result=[[sum(row) for row in zip(*t)] for t in zip(matrix_a, matrix_b)]\n",
    "print(result)  # matrix_a와 matrix_b의 값을 순서대로 꺼내 각각 덧셈한 결과를 출력해주기"
   ]
  },
  {
   "cell_type": "markdown",
   "id": "2e1ae29e",
   "metadata": {},
   "source": [
    "# 일반문제\n",
    "---\n",
    "## 주민등록번호로 성별 찾기 with map\n",
    "PR6에서 split을 활용하여 주민등록번호 뒷자리의 맨 첫번째 숫자를 추출하여 성별을 알아내는 과정을 구현하였다. 이번에는 여러개의 요소를 가지는 다음과 같은 리스트에서 성별을 찾는 과정을 맵리듀스를 이용해 간단하게 구현해보자.\n"
   ]
  },
  {
   "cell_type": "code",
   "execution_count": 31,
   "id": "d223e421",
   "metadata": {},
   "outputs": [],
   "source": [
    "pins = [\"891120-1234567\", \"931120-2335567\", \"911120-1234234\", \"951120-1234567\"]"
   ]
  },
  {
   "cell_type": "markdown",
   "id": "3f9adfdd",
   "metadata": {},
   "source": [
    "> ***Q*** : lambda와 map을 사용하여 위의 리스트에서 출력결과 예시와 같이 성별을 나타내는 값을 추출하시오."
   ]
  },
  {
   "cell_type": "markdown",
   "id": "429e72a2",
   "metadata": {},
   "source": [
    "### 출력결과 예시\n"
   ]
  },
  {
   "cell_type": "code",
   "execution_count": 32,
   "id": "0e8a4d3e",
   "metadata": {},
   "outputs": [],
   "source": [
    "## CODE\n",
    "\n",
    "## ['1', '2', '1', '1']"
   ]
  },
  {
   "cell_type": "markdown",
   "id": "e55ab6bb",
   "metadata": {},
   "source": [
    "### HINT\n",
    "1. lambda 함수로 주민등록번호 문자열에서 성별을 추출하는 과정을 구현한다.\n",
    "2. map 함수에 해당 lambda함수와 주민등록번호 리스트를 입력한다.\n",
    "3. **실습코드 2.1.** 에서 map 과 lambda를 어떻게 함께 사용하는지와 결과를 list로 출력하는 과정을 참고하세요."
   ]
  },
  {
   "cell_type": "code",
   "execution_count": 33,
   "id": "16d3b2ab",
   "metadata": {},
   "outputs": [
    {
     "data": {
      "text/plain": [
       "['1', '2', '1', '1']"
      ]
     },
     "execution_count": 33,
     "metadata": {},
     "output_type": "execute_result"
    }
   ],
   "source": [
    "pins = [\"891120-1234567\", \"931120-2335567\", \"911120-1234234\", \"951120-1234567\"]\n",
    "\n",
    "\n",
    "list(map(lambda x: x.split(\"-\")[1][0], pins))  # \"-\"을 기준으로 split 하고 뒷자리[1]의 첫번째 값[0]의 출력을 통해 성별 찾기\n"
   ]
  },
  {
   "cell_type": "markdown",
   "id": "573fcdbb",
   "metadata": {},
   "source": [
    "# 도전 문제\n",
    "---\n",
    "## 벡터의 내적\n",
    "크기가 같은 두 벡터의 내적은 벡터의 각 성분별 곱한 값을 더해준 값이다.\n",
    "\n",
    "> ***Q*** : 크기가 같은 두 벡터 (list 형태)를 받으면 이를 내적한 값을 도출하는 함수 dot을 구현하고, 이를 활용하여 a=[1,2],b=[3,4]를 내적한 값을 구하시오."
   ]
  },
  {
   "cell_type": "markdown",
   "id": "38851a48",
   "metadata": {},
   "source": [
    "## HINT\n",
    "1. **실습코드 4.1.** 에서는 벡터의 합과 곱에 대한 연산만을 다루고 있습니다. 이중 **간단한 벡터의 합**에서 리스트 컴프리헨션을 사용한 방법에서 연산을 바꾸면 각 벡터별 곱을 간단히 구할 수 있습니다."
   ]
  },
  {
   "cell_type": "code",
   "execution_count": 40,
   "id": "d5d704cf",
   "metadata": {},
   "outputs": [
    {
     "data": {
      "text/plain": [
       "11"
      ]
     },
     "execution_count": 40,
     "metadata": {},
     "output_type": "execute_result"
    }
   ],
   "source": [
    "a = [1, 2]  # 변수 a에 리스트 정의해주기\n",
    "b = [3, 4]  # 변수 b에 리스트 정의해주기\n",
    "\n",
    "dot = lambda a,b : sum([x*y for x, y in zip(a, b)])  # zip을 통해 a와 b의 각각의 숫자를 꺼내 덧셈한 값을 dot에 입력해주기\n",
    "\n",
    "dot(a,b)"
   ]
  }
 ],
 "metadata": {
  "kernelspec": {
   "display_name": "Python 3",
   "language": "python",
   "name": "python3"
  },
  "language_info": {
   "codemirror_mode": {
    "name": "ipython",
    "version": 3
   },
   "file_extension": ".py",
   "mimetype": "text/x-python",
   "name": "python",
   "nbconvert_exporter": "python",
   "pygments_lexer": "ipython3",
   "version": "3.8.8"
  }
 },
 "nbformat": 4,
 "nbformat_minor": 5
}
