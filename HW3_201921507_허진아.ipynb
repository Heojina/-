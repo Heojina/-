{
 "cells": [
  {
   "cell_type": "markdown",
   "id": "c8d41fcc",
   "metadata": {},
   "source": [
    "# 웹 크롤링1 - Static Crawling\n",
    "#### e-비즈니스학과 201921507 허진아\n",
    "\n",
    "---"
   ]
  },
  {
   "cell_type": "markdown",
   "id": "8e68d96c",
   "metadata": {},
   "source": [
    "# 1. urllib\n",
    "- 파이썬은 웹 사이트에 있는 데이터를 추출하기 위해 urllib 라이브러리 사용\n",
    "- 이를 이용해 HTTP 또는 FTP를 사용해 데이터 다운로드 가능\n",
    "- urllib은 URL을 다루는 모듈을 모아놓은 패키지\n",
    "- urllib.request 모듈은 웹 사이트에 있는 데이터에 접근하는 기능 제공, 또는 인증 리다렉트, 쿠키ㅓ럼 인터넷을 이용한 다양한 요청과 처리가 가능"
   ]
  },
  {
   "cell_type": "code",
   "execution_count": 5,
   "id": "4c3b43a1",
   "metadata": {},
   "outputs": [],
   "source": [
    "from urllib import request #urllib로 부터 request 패키지를 불러오기"
   ]
  },
  {
   "cell_type": "markdown",
   "id": "5e4b0222",
   "metadata": {},
   "source": [
    "## 1.1 urllib.request를 이용한 다운로드\n",
    "- urllib.request 모듈에 있는 urlretrive() 함수 이용\n",
    "- 다음의 코드는 PNG 파일을 test.png라는 이름의 파일로 저장하는 예제임"
   ]
  },
  {
   "cell_type": "code",
   "execution_count": 4,
   "id": "d1bce64d",
   "metadata": {},
   "outputs": [
    {
     "name": "stdout",
     "output_type": "stream",
     "text": [
      "저장되었습니다\n"
     ]
    }
   ],
   "source": [
    "# 라이브러리 읽어들이기\n",
    "from urllib import request\n",
    "\n",
    "url=\"http://uta.pw/shodou/img/28/214.png\"\n",
    "# url을 불러오기\n",
    "savename=\"test.png\"  # 'test'라는 이름의 png 확장자 파일을 저장하기\n",
    "\n",
    "request.urlretrieve(url, savename)  # request 실행하기\n",
    "print(\"저장되었습니다\")  # 프린트하기"
   ]
  },
  {
   "cell_type": "markdown",
   "id": "8ee036e0",
   "metadata": {},
   "source": [
    "## 1.2 urlopen으로 파일에 저장하는 방법\n",
    "- request.urlopen()은 메모리에 데이터를 올린 후 파일에 저장하게 된다."
   ]
  },
  {
   "cell_type": "code",
   "execution_count": null,
   "id": "0a2c4d80",
   "metadata": {},
   "outputs": [],
   "source": [
    "# URL과 저장경로 지정하기\n",
    "url = \"http://uta.pw/shodou/img/28/214.png\"\n",
    "savename = \"test1.png\"\n",
    "#다운로드\n",
    "mem = request.urlopen(url).read()\n",
    "#파일로 저장하기, wb는 쓰기와 바이너리모드\n",
    "with open(savename, mode=\"wb\") as f:  # 위에서 정의한 행위를 f라고 하기\n",
    "    f.write(mem)  \n",
    "    print(\"저장되었습니다..\")"
   ]
  },
  {
   "cell_type": "markdown",
   "id": "17889639",
   "metadata": {},
   "source": [
    "## 1.3 API 사용하기\n",
    "### 클라이언트 접속 정보 출력 (기본)\n",
    "- API는 사용자의 요청에 따라 정보를 반환하는 프로그램\n",
    "- IP 주소, UserAgent 등 클라이언트 접속정보 출력하는 \"IP 확인 API\" 접근해서 정보를 추출하는 프로그램"
   ]
  },
  {
   "cell_type": "code",
   "execution_count": null,
   "id": "1109e4d8",
   "metadata": {},
   "outputs": [],
   "source": [
    "#데이터 읽어들이기\n",
    "url=\"http://api.aoikujira.com/ip/ini\"\n",
    "res=request.urlopen(url)\n",
    "data=res.read()\n",
    "\n",
    "#바이너리를 문자열로 변환하기\n",
    "text=data.decode(\"utf-8\")\n",
    "print(text)"
   ]
  },
  {
   "cell_type": "markdown",
   "id": "558d2a17",
   "metadata": {},
   "source": [
    "# 2. BeautifulSoup\n",
    "- 스크레이핑(Scraping or Crawling)이란 웹사이트에서 데이터를 추출하고, 원하는 정보를 추출하는 것을 의미\n",
    "- BeautifulSoup이란 파이썬으로 스크레이핑할 대 사용되는 라이브러리로서 HTML/XML 에서 정보를 추출할 수 있도록 도와줌. 그러나 다운로드 기능은 없음,\n",
    "- 파이썬 라이브러리는 pip 명령어를 이용해 설치 가능. Python Pakage Index(PyPI)에 있는 패키지 명령어를 한줄로 설치 가능\n",
    "  - URL (http://pypi.python.org/pypi)"
   ]
  },
  {
   "cell_type": "markdown",
   "id": "4148995e",
   "metadata": {},
   "source": [
    "### 패키지 import 및 예제 HTML"
   ]
  },
  {
   "cell_type": "code",
   "execution_count": 10,
   "id": "a81b4c09",
   "metadata": {},
   "outputs": [],
   "source": [
    "from bs4 import BeautifulSoup  # BeautifulSoup 모듈 불러오기"
   ]
  },
  {
   "cell_type": "code",
   "execution_count": 8,
   "id": "20a274af",
   "metadata": {},
   "outputs": [],
   "source": [
    "html = \"\"\"\n",
    "<html><body>\n",
    "  <h1>스크레이핑이란?</h1>\n",
    "  <p>웹 페이지를 분석하는 것</p>\n",
    "  <p>원하는 부분을 추출하는 것</p>\n",
    "</body></html>\n",
    "\"\"\""
   ]
  },
  {
   "cell_type": "markdown",
   "id": "305799be",
   "metadata": {},
   "source": [
    "## 2.1 기본 사용\n",
    "- 다음은 Beautifulsoup를 이용하여 웹사이트로부터 HTML을 가져와 문자열로 만들어 이용하는 예제임\n",
    "- h1 태그를 접근하기 위해 html-body-h1 구조를 사용하여 soup.html.body.h1 이런식으로 이용하게 됨.\n",
    "- p 태그는 두개가 있어 soup.html.body.p 한 후 next_sibling을 두번 이용하여 다음 p를 추출. 한번만 하면 그 다음 공백이 추출됨.\n",
    "- HTML 태그가 복잡한 경우 이런 방식으로 계속 진행하기는 적합하지 않음."
   ]
  },
  {
   "cell_type": "markdown",
   "id": "9e8fe5ce",
   "metadata": {},
   "source": [
    "### 2) HTML 분석하기"
   ]
  },
  {
   "cell_type": "code",
   "execution_count": 12,
   "id": "ae2506b0",
   "metadata": {},
   "outputs": [],
   "source": [
    "soup = BeautifulSoup(html, 'html.parser') #html.parser 불러오기"
   ]
  },
  {
   "cell_type": "markdown",
   "id": "7aa2385e",
   "metadata": {},
   "source": [
    "### 3) 원하는 부분 추출하기"
   ]
  },
  {
   "cell_type": "code",
   "execution_count": 15,
   "id": "a4dd2525",
   "metadata": {},
   "outputs": [],
   "source": [
    "h1 = soup.html.body.h1  # body는 h1을 h1로 저장하기\n",
    "p1 = soup.html.body.p  # body는 p를 p1으로 저장하기\n",
    "p2 = p1.next_sibling.next_sibling"
   ]
  },
  {
   "cell_type": "markdown",
   "id": "e2ffcd9b",
   "metadata": {},
   "source": [
    "### 4) 요소의 글자 출력하기"
   ]
  },
  {
   "cell_type": "code",
   "execution_count": 16,
   "id": "d1bebe9f",
   "metadata": {},
   "outputs": [
    {
     "name": "stdout",
     "output_type": "stream",
     "text": [
      "h1 = 스크레이핑이란?\n",
      "p  = 웹 페이지를 분석하는 것\n",
      "p  = 원하는 부분을 추출하는 것\n"
     ]
    }
   ],
   "source": [
    "print(f\"h1 = {h1.string}\")  #h1의 string을 출력해라\n",
    "print(f\"p  = {p1.string}\")  #p1의 string을 출력해라\n",
    "print(f\"p  = {p2.string}\")  #p2의 string을 출력해라"
   ]
  },
  {
   "cell_type": "markdown",
   "id": "cf5089e3",
   "metadata": {},
   "source": [
    "## 2.2 요소를 찾는 method\n",
    "### 단일 element 추출 : find()\n",
    "BeautifulSoup는 루트부터 하나하나 요소를 찾는 방법 말고도 find()라는 메소드를 제공함"
   ]
  },
  {
   "cell_type": "code",
   "execution_count": 17,
   "id": "635078da",
   "metadata": {},
   "outputs": [],
   "source": [
    "soup = BeautifulSoup(html, 'html.parser')  # soup라는 변수에 html.parser를 정의해주기"
   ]
  },
  {
   "cell_type": "markdown",
   "id": "9cee9eda",
   "metadata": {},
   "source": [
    "- 1) find()메서드로 원하는 부분 추출하기"
   ]
  },
  {
   "cell_type": "code",
   "execution_count": 18,
   "id": "0468ffaa",
   "metadata": {},
   "outputs": [
    {
     "name": "stdout",
     "output_type": "stream",
     "text": [
      "<h1>스크레이핑이란?</h1>\n"
     ]
    }
   ],
   "source": [
    "title = soup.find(\"h1\")  # h1의 부분을 추출하기\n",
    "body  = soup.find(\"p\")  # p의 부분을 추출하기\n",
    "print(title)  # 추출한 h1 부분을 프린트해라"
   ]
  },
  {
   "cell_type": "markdown",
   "id": "85adc566",
   "metadata": {},
   "source": [
    "- 2) 텍스트 부분 출력하기"
   ]
  },
  {
   "cell_type": "code",
   "execution_count": 19,
   "id": "992c1c8b",
   "metadata": {},
   "outputs": [
    {
     "name": "stdout",
     "output_type": "stream",
     "text": [
      "#title = 스크레이핑이란?\n",
      "#body = 웹 페이지를 분석하는 것\n"
     ]
    }
   ],
   "source": [
    "print(f\"#title = {title.string}\")  # title의 string을 출력해라\n",
    "print(f\"#body = {body.string}\")  # body의 string을 출력해라"
   ]
  },
  {
   "cell_type": "markdown",
   "id": "ab541b03",
   "metadata": {},
   "source": [
    "### 복수 elements 추출 : find_all()\n",
    "여러개의 태그를 한번에 추출하고자 할때 사용함. 다음의 예제에서는 여러개의 태그를 추출하는 법을 보여주고 있음"
   ]
  },
  {
   "cell_type": "code",
   "execution_count": 20,
   "id": "0bb14d03",
   "metadata": {},
   "outputs": [],
   "source": [
    "html = \"\"\"\n",
    "<html><body>\n",
    "  <ul>\n",
    "    <li><a href=\"http://www.naver.com\">naver</a></li>\n",
    "    <li><a href=\"http://www.daum.net\">daum</a></li>\n",
    "  </ul>\n",
    "</body></html>\n",
    "\"\"\"\n",
    "\n",
    "soup = BeautifulSoup(html, 'html.parser')"
   ]
  },
  {
   "cell_type": "markdown",
   "id": "fcced606",
   "metadata": {},
   "source": [
    "- 1) find_all() 메서드로 추출하기 "
   ]
  },
  {
   "cell_type": "code",
   "execution_count": 21,
   "id": "de576d86",
   "metadata": {},
   "outputs": [
    {
     "name": "stdout",
     "output_type": "stream",
     "text": [
      "[<a href=\"http://www.naver.com\">naver</a>, <a href=\"http://www.daum.net\">daum</a>] 2\n"
     ]
    }
   ],
   "source": [
    "links = soup.find_all(\"a\")  # a의 모든 부분을 추출하기 위해 find를 이용하기\n",
    "print(links, len(links))"
   ]
  },
  {
   "cell_type": "markdown",
   "id": "9f6fa688",
   "metadata": {},
   "source": [
    "- 2) 링크 목록 출력하기"
   ]
  },
  {
   "cell_type": "code",
   "execution_count": 22,
   "id": "267a7067",
   "metadata": {},
   "outputs": [
    {
     "name": "stdout",
     "output_type": "stream",
     "text": [
      "naver > http://www.naver.com\n",
      "daum > http://www.daum.net\n"
     ]
    }
   ],
   "source": [
    "for a in links:\n",
    "    href = a.attrs['href'] # href의 속성에 있는 속성값을 추출\n",
    "    text = a.string \n",
    "    print(text, \">\", href)"
   ]
  },
  {
   "cell_type": "markdown",
   "id": "543e6990",
   "metadata": {},
   "source": [
    "# 3. Css Selector"
   ]
  },
  {
   "cell_type": "markdown",
   "id": "f3c308e1",
   "metadata": {},
   "source": [
    "> Css Selector란, 웹상의 요소에 css를 적용하기 위한 문법으로, 즉 요소를 선택하기 위한 패턴입니다.\n",
    "\n",
    "출처: https://www.w3schools.com/cssref/css_selectors.asp\n",
    "\n",
    "앞서 간단하게 태그를 사용하여 데이터를 추출하는 방법에 대해서 살펴보았습니다.\n",
    "\n",
    "하지만 복잡하게 구조화된 웹 사이트에서 자신이 원하는 데이터를 가져오기 위해서는 Css Selector에 대한 이해가 필요합니다."
   ]
  },
  {
   "cell_type": "markdown",
   "id": "587c8676",
   "metadata": {},
   "source": [
    "서식 | 설명\n",
    "---- | ---\n",
    "*    | 모든 요소를 선택\n",
    "<요소 이름>   | 요소 이름을 기반으로 선택\n",
    "<클래스 이름>  | 클래스 이름을 기반으로 서낵\n",
    "#<id 이름>  | id 속성을 기반으로 선택\n"
   ]
  },
  {
   "cell_type": "markdown",
   "id": "d874977b",
   "metadata": {},
   "source": [
    "## BeautifulSoup에서 Css Selector 사용하기\n",
    "BeautifulSoup에서는 Css Selector로 값을 가져올 수 있도록 find와는 다른 다음과 같은 메서드를 제공합니다."
   ]
  },
  {
   "cell_type": "markdown",
   "id": "4be751f6",
   "metadata": {},
   "source": [
    "메서드 | 설명\n",
    "---- | ---\n",
    "soup.select_one(선택자)    | CSS 선택자로 요소 하나를 추출합니다.\n",
    "soup.select(선택자)\t   | CSS 선택자로 요소 여러개를 리스트를 추출합니다.\n"
   ]
  },
  {
   "cell_type": "code",
   "execution_count": 25,
   "id": "09370186",
   "metadata": {},
   "outputs": [],
   "source": [
    "html = \"\"\"\n",
    "<html><body>\n",
    "<div id=\"meigen\">\n",
    "  <h1>위키북스 도서</h1>\n",
    "  <ul class=\"items\">\n",
    "    <li>유니티 게임 이펙트 입문</li>\n",
    "    <li>스위프트로 시작하는 아이폰 앱 개발 교과서</li>\n",
    "    <li>모던 웹사이트 디자인의 정석</li>\n",
    "  </ul>\n",
    "</div>\n",
    "</body></html>\n",
    "\"\"\"\n",
    "\n",
    "# HTML 분석하기 \n",
    "soup = BeautifulSoup(html, 'html.parser')"
   ]
  },
  {
   "cell_type": "markdown",
   "id": "66f10da6",
   "metadata": {},
   "source": [
    "- 필요한 부분을 CSS 쿼리로 추출하기"
   ]
  },
  {
   "cell_type": "code",
   "execution_count": 26,
   "id": "e6a4c5a7",
   "metadata": {},
   "outputs": [
    {
     "name": "stdout",
     "output_type": "stream",
     "text": [
      "h1 = 위키북스 도서\n",
      "li = 유니티 게임 이펙트 입문\n",
      "li = 스위프트로 시작하는 아이폰 앱 개발 교과서\n",
      "li = 모던 웹사이트 디자인의 정석\n"
     ]
    }
   ],
   "source": [
    "# 타이틀 부분 추출하기 --- (※3)\n",
    "h1 = soup.select_one(\"div#meigen > h1\").string\n",
    "print(f\"h1 = {h1}\")\n",
    "\n",
    "# 목록 부분 추출하기 --- (※4)\n",
    "li_list = soup.select(\"div#meigen > ul.items > li\")\n",
    "for li in li_list:\n",
    "  print(f\"li = {li.string}\")"
   ]
  },
  {
   "cell_type": "markdown",
   "id": "31b8e401",
   "metadata": {},
   "source": [
    "# 4. 활용 예제\n",
    "앞서 배운 urllib과 BeautifulSoup를 조합하면, 웹스크레이핑 및 API 요청 작업을 쉽게 수행하실 수 있습니다.\n",
    "\n",
    "1. URL을 이용하여 웹으로부터 html을 읽어들임 (urllib)\n",
    "2. html 분석 및 원하는 데이터를 추출 (BeautifulSoup)"
   ]
  },
  {
   "cell_type": "code",
   "execution_count": 27,
   "id": "8c7a1dc8",
   "metadata": {},
   "outputs": [],
   "source": [
    "from bs4 import BeautifulSoup  # bs4로부터 beautifulSoup 불러오기\n",
    "from urllib import request, parse  # urllib로 부터 request와 parse 불러오기"
   ]
  },
  {
   "cell_type": "markdown",
   "id": "9b448e19",
   "metadata": {},
   "source": [
    "## 4.1 네이버 금융 - 환율 정보\n",
    "- 다양한 금융 정보가 공개돼 있는 \"네이버 금융\"에서 원/달러 환율 정보를 추출해보자!\n",
    "- 네이버 금융의 시장 지표 페이지 https://finance.naver.com/marketindex/\n",
    "- 다음은 원/달러 환율 정보를 추출하는 프로그램임"
   ]
  },
  {
   "cell_type": "markdown",
   "id": "23a088f1",
   "metadata": {},
   "source": [
    "### 1) HTML 가져오기"
   ]
  },
  {
   "cell_type": "code",
   "execution_count": 31,
   "id": "2688083d",
   "metadata": {},
   "outputs": [],
   "source": [
    "url = \"https://finance.naver.com/marketindex/\"  # 스크레이핑 하기 위한 url을 정의해주기\n",
    "res = request.urlopen(url)  # 위에서 정의해준 url을 request 해주기"
   ]
  },
  {
   "cell_type": "markdown",
   "id": "f1f8b917",
   "metadata": {},
   "source": [
    "### 2) HTML 분석하기"
   ]
  },
  {
   "cell_type": "code",
   "execution_count": 34,
   "id": "0eeb2dbd",
   "metadata": {},
   "outputs": [],
   "source": [
    "soup = BeautifulSoup(res, \"html.parser\")  # soup라는 변수에 html.parser를 정의해주기"
   ]
  },
  {
   "cell_type": "markdown",
   "id": "75c79f89",
   "metadata": {},
   "source": [
    "### 3) 원하는 데이터 추출하기"
   ]
  },
  {
   "cell_type": "code",
   "execution_count": 35,
   "id": "cabda1f6",
   "metadata": {},
   "outputs": [
    {
     "name": "stdout",
     "output_type": "stream",
     "text": [
      "usd/krw = 1,184.00\n"
     ]
    }
   ],
   "source": [
    "price = soup.select_one(\"div.head_info > span.value\").string\n",
    "# 원하는 데이터를 추출하기 위해 Css Selector를 div.head_info 그리고 span.value 순ㅅ서대로 접근하여 string을 선택하기\n",
    "print(\"usd/krw =\", price) # 환율 정보임을 알려주기 위해 price가 의미하는 문자열을 앞에 함께 출력해주기"
   ]
  },
  {
   "cell_type": "markdown",
   "id": "7074e4d4",
   "metadata": {},
   "source": [
    "## 4.2 기상청 RSS\n",
    "- 기상청 RSS에서 특정 내용을 추출하는 예제\n",
    "- 기상청 RSS에서 XML 데이터를 추출하고 XML 내용을 출력\n",
    "- 기상청의 RSS 서비스에 지역 번호를 지정하여 데이터 요청해보기  \n",
    "http://www.kma.go.kr/weather/forecast/mid-term-rss3.jsp\n",
    "  - 참고: 기상청 RSS http://www.kma.go.kr/weather/lifenindustry/service_rss.jsp"
   ]
  },
  {
   "cell_type": "markdown",
   "id": "ca816fb4",
   "metadata": {},
   "source": [
    "매개변수 | 의미\n",
    "---- | ---\n",
    "stnid   | 기상정보를 알고 싶은 지역을 지정\n"
   ]
  },
  {
   "cell_type": "markdown",
   "id": "afed0aef",
   "metadata": {},
   "source": [
    "- 지역번호는 다음과 같음"
   ]
  },
  {
   "cell_type": "markdown",
   "id": "bfbae338",
   "metadata": {},
   "source": [
    "지역 | 지역번호 | 지역 | 지역번호\n",
    "---- | --- | --- | ---\n",
    "전국 | 108 | 전라북도 | 146\n",
    "서울/경기도 | 109 | 전라남도 | 156\n",
    "강원도 | 105 | 경상북도 | 143\n",
    "충청북도 | 131 | 경상남도 | 159\n",
    "충청남도 | 133 | 제주특별자치도 | 184"
   ]
  },
  {
   "cell_type": "markdown",
   "id": "2bc1809c",
   "metadata": {},
   "source": [
    "- 파이썬으로 요청 전용 매개변수를 만들 때는 urllib.parse 모듈의 urlencode() 함수를 사용해 매개변수를 URL로 인코딩한다."
   ]
  },
  {
   "cell_type": "markdown",
   "id": "4728e120",
   "metadata": {},
   "source": [
    "### 1) HTML 가져오기"
   ]
  },
  {
   "cell_type": "code",
   "execution_count": 43,
   "id": "0af677da",
   "metadata": {},
   "outputs": [
    {
     "name": "stdout",
     "output_type": "stream",
     "text": [
      "url= http://www.kma.go.kr/weather/forecast/mid-term-rss3.jsp?stnId=109\n"
     ]
    }
   ],
   "source": [
    "url = \"http://www.kma.go.kr/weather/forecast/mid-term-rss3.jsp\"\n",
    "\n",
    "#매개변수를 URL로 인코딩한다.\n",
    "values = {\n",
    "    'stnId':'109'\n",
    "}\n",
    "\n",
    "params=parse.urlencode(values)\n",
    "url += \"?\"+params # URL에 매개변수 추가\n",
    "print(\"url=\", url)\n",
    "\n",
    "res = request.urlopen(url)"
   ]
  },
  {
   "cell_type": "markdown",
   "id": "cba1cc6f",
   "metadata": {},
   "source": [
    "### 2) HTML 분석하기"
   ]
  },
  {
   "cell_type": "code",
   "execution_count": 44,
   "id": "2a388d05",
   "metadata": {},
   "outputs": [],
   "source": [
    "soup = BeautifulSoup(res, \"html.parser\")  # soup라는 변수에 html.parser를 정의해주기"
   ]
  },
  {
   "cell_type": "markdown",
   "id": "4f9775b6",
   "metadata": {},
   "source": [
    "### 3) 원하는 데이터 추출하기"
   ]
  },
  {
   "cell_type": "code",
   "execution_count": 45,
   "id": "36c2b3fa",
   "metadata": {
    "scrolled": true
   },
   "outputs": [
    {
     "name": "stdout",
     "output_type": "stream",
     "text": [
      "서울,경기도 육상중기예보\n",
      "○ (기온) 이번 예보기간 아침최저기온은 13~19도, 낮최고기온은 24~27도로 어제(20일, 아침최저기온 15~20도, 낮최고기온 27~29도)보다 낮겠습니다.<br />○ (해상) 서해중부해상의 물결은 0.5~2.0m로 일겠습니다.<br />○ (주말전망) 25일(토)과 26일(일)은 구름많겠습니다. 아침최저기온은 14~18도, 낮최고기온은 25~27도가 되겠습니다.\n"
     ]
    }
   ],
   "source": [
    "header = soup.find(\"header\")  # header을 찾아 header에 정의해주기\n",
    "\n",
    "title = header.find(\"title\").text  # title을 찾아 변수 title에 정의해주기\n",
    "wf = header.find(\"wf\").text  # wf를 찾아 wf에 정의해주기\n",
    "\n",
    "print(title)\n",
    "print(wf)"
   ]
  },
  {
   "cell_type": "markdown",
   "id": "1e878edb",
   "metadata": {},
   "source": [
    "- css selector 기반"
   ]
  },
  {
   "cell_type": "code",
   "execution_count": 46,
   "id": "140cc2c0",
   "metadata": {},
   "outputs": [
    {
     "name": "stdout",
     "output_type": "stream",
     "text": [
      "서울,경기도 육상중기예보\n",
      "○ (기온) 이번 예보기간 아침최저기온은 13~19도, 낮최고기온은 24~27도로 어제(20일, 아침최저기온 15~20도, 낮최고기온 27~29도)보다 낮겠습니다.<br />○ (해상) 서해중부해상의 물결은 0.5~2.0m로 일겠습니다.<br />○ (주말전망) 25일(토)과 26일(일)은 구름많겠습니다. 아침최저기온은 14~18도, 낮최고기온은 25~27도가 되겠습니다.\n"
     ]
    }
   ],
   "source": [
    "title = soup.select_one(\"header > title\").text  # Css Selector의 순서대로 찾고 text로 추출하기\n",
    "wf = header.select_one(\"header wf\").text  # header에서 wf를 찾고 text로 추출하기\n",
    "\n",
    "print(title)\n",
    "print(wf)"
   ]
  },
  {
   "cell_type": "markdown",
   "id": "45d002dc",
   "metadata": {},
   "source": [
    "## 4.3 윤동주 작가의 작품 목록\n",
    "- 위키문헌 (https://ko.wikisource.org/wiki) 에 공개되어 있는 윤동주의 작품목록을 가져오기\n",
    "- 윤동주 위키  (https://ko.wikisource.org/wiki/%EC%A0%80%EC%9E%90:%EC%9C%A4%EB%8F%99%EC%A3%BC)\n",
    "- 하늘과 바람과 시 부분을 선택한 후 오른쪽 마우스 이용해 copy selector로 카피하면 다음의 CSS 선택자가 카피됨\n",
    "  - #mw-content-text > div > ul:nth-child(6) > li > b > a\n",
    "- nth-child(n) 은 n 번째 요소를 의미 즉 6번째 요소를 의미, #mw-content-text 내부에 있는 url 태그는 모두 작품과 관련된 태그. 따라서 따로 구분할 필요는 없으며 생략해도 됨. BeautifulSoup는 nth-child 지원하지 않음\n",
    "  - Recall PR7 Problem1"
   ]
  },
  {
   "cell_type": "code",
   "execution_count": 47,
   "id": "f7597493",
   "metadata": {
    "scrolled": true
   },
   "outputs": [
    {
     "name": "stdout",
     "output_type": "stream",
     "text": [
      "- 하늘과 바람과 별과 시\n",
      "- 증보판\n",
      "- 서시\n",
      "- 자화상\n",
      "- 소년\n",
      "- 눈 오는 지도\n",
      "- 돌아와 보는 밤\n",
      "- 병원\n",
      "- 새로운 길\n",
      "- 간판 없는 거리\n",
      "- 태초의 아침\n",
      "- 또 태초의 아침\n",
      "- 새벽이 올 때까지\n",
      "- 무서운 시간\n",
      "- 십자가\n",
      "- 바람이 불어\n",
      "- 슬픈 족속\n",
      "- 눈감고 간다\n",
      "- 또 다른 고향\n",
      "- 길\n",
      "- 별 헤는 밤\n",
      "- 흰 그림자\n",
      "- 사랑스런 추억\n",
      "- 흐르는 거리\n",
      "- 쉽게 씌어진 시\n",
      "- 봄\n",
      "- 참회록\n",
      "- 간(肝)\n",
      "- 위로\n",
      "- 팔복\n",
      "- 못자는밤\n",
      "- 달같이\n",
      "- 고추밭\n",
      "- 아우의 인상화\n",
      "- 사랑의 전당\n",
      "- 이적\n",
      "- 비오는 밤\n",
      "- 산골물\n",
      "- 유언\n",
      "- 창\n",
      "- 바다\n",
      "- 비로봉\n",
      "- 산협의 오후\n",
      "- 명상\n",
      "- 소낙비\n",
      "- 한난계\n",
      "- 풍경\n",
      "- 달밤\n",
      "- 장\n",
      "- 밤\n",
      "- 황혼이 바다가 되어\n",
      "- 아침\n",
      "- 빨래\n",
      "- 꿈은 깨어지고\n",
      "- 산림\n",
      "- 이런날\n",
      "- 산상\n",
      "- 양지쪽\n",
      "- 닭\n",
      "- 가슴 1\n",
      "- 가슴 2\n",
      "- 비둘기\n",
      "- 황혼\n",
      "- 남쪽 하늘\n",
      "- 창공\n",
      "- 거리에서\n",
      "- 삶과 죽음\n",
      "- 초한대\n",
      "- 산울림\n",
      "- 해바라기 얼굴\n",
      "- 귀뚜라미와 나와\n",
      "- 애기의 새벽\n",
      "- 햇빛·바람\n",
      "- 반디불\n",
      "- 둘 다\n",
      "- 거짓부리\n",
      "- 눈\n",
      "- 참새\n",
      "- 버선본\n",
      "- 편지\n",
      "- 봄\n",
      "- 무얼 먹구 사나\n",
      "- 굴뚝\n",
      "- 햇비\n",
      "- 빗자루\n",
      "- 기왓장 내외\n",
      "- 오줌싸개 지도\n",
      "- 병아리\n",
      "- 조개껍질\n",
      "- 겨울\n",
      "- 트루게네프의 언덕\n",
      "- 달을 쏘다\n",
      "- 별똥 떨어진 데\n",
      "- 화원에 꽃이 핀다\n",
      "- 종시\n"
     ]
    }
   ],
   "source": [
    "# 뒤의 인코딩 부분은 \"저자:윤동주\"라는 의미입니다.\n",
    "# 따로 입력하지 말고 위키 문헌 홈페이지에 들어간 뒤에 주소를 복사해서 사용하세요.\n",
    "\n",
    "url = \"https://ko.wikisource.org/wiki/%EC%A0%80%EC%9E%90:%EC%9C%A4%EB%8F%99%EC%A3%BC\"\n",
    "res = request.urlopen(url)\n",
    "soup = BeautifulSoup(res, \"html.parser\")\n",
    "\n",
    "# #mw-content-text 바로 아래에 있는 \n",
    "# ul 태그 바로 아래에 있는\n",
    "# li 태그 아래에 있는\n",
    "# a 태그를 모두 선택합니다.\n",
    "a_list = soup.select(\"#mw-content-text   ul > li  a\")\n",
    "for a in a_list:\n",
    "    name = a.string\n",
    "    print(f\"- {name}\", )"
   ]
  },
  {
   "cell_type": "markdown",
   "id": "406bc2e6",
   "metadata": {},
   "source": [
    "# 일반 문제\n",
    "---"
   ]
  },
  {
   "cell_type": "code",
   "execution_count": 48,
   "id": "3c1539b8",
   "metadata": {},
   "outputs": [],
   "source": [
    "from bs4 import BeautifulSoup\n",
    "from urllib import request"
   ]
  },
  {
   "cell_type": "markdown",
   "id": "ad645d1b",
   "metadata": {},
   "source": [
    "## 1. 네이터 뉴스 헤드라인\n",
    "배운 내용을 바탕으로 네이버 뉴스(https://news.naver.com/)에서 헤드라인 뉴스의 제목을 추출해보고자 합니다.\n",
    "> ***Q*** : 다음의 코드에 css selector를 추가하여 최신 기사의 헤드라인을 스크레이핑하는 코드를 완성하시오."
   ]
  },
  {
   "cell_type": "code",
   "execution_count": 49,
   "id": "8d5d2d0d",
   "metadata": {
    "scrolled": true
   },
   "outputs": [
    {
     "name": "stdout",
     "output_type": "stream",
     "text": [
      "\n",
      "                                        김정숙 여사, BTS와 뉴욕 메트로폴리탄 미술관 방문…\"K컬처가 외교사절 역할\"\n",
      "                                    \n",
      "\n",
      "                                        카카오 김범수, ‘최고 부자’ 자리 이재용에게 다시 내줘\n",
      "                                    \n",
      "\n",
      "                                        코로나19 백신 접종 안 하면 미국 못 간다\n",
      "                                    \n",
      "\n",
      "                                        “장제원 아들 노엘, 힙합계 명예 실추…퇴출해야” 성명\n",
      "                                    \n",
      "\n",
      "                                        코로나19 신규확진 1729명, 나흘째 ‘요일 최다’\n",
      "                                    \n"
     ]
    }
   ],
   "source": [
    "url = \"https://news.naver.com/\"  # 원하는 정보를 스크레이핑 하기 위한 url을 정의하기\n",
    "\n",
    "res = request.urlopen(url)  # 변수 res에 정의한 url을 다시 열고 request 하기\n",
    "soup = BeautifulSoup(res, \"html.parser\")  # soup라는 변수에 html.parser를 정의해주기\n",
    "\n",
    "selector = \"#today_main_news > div.hdline_news > ul > li > div.hdline_article_tit > a\"\n",
    "# 추출하고자 하는 Css Selector를 정의해주기\n",
    "\n",
    "for a in soup.select(selector):\n",
    "    title = a.text\n",
    "    print(title)"
   ]
  },
  {
   "cell_type": "markdown",
   "id": "55f8df5c",
   "metadata": {},
   "source": [
    "# 2. 시민의 소리 게시판\n",
    "다음은 서울시 대공원의 시민의 소리 게시판 입니다.  \n",
    "\n",
    "https://www.sisul.or.kr/open_content/childrenpark/qna/qnaMsgList.do?pgno=1\n",
    "\n",
    "해당 페이지에 나타난 게시글들의 제목을 수집하고자 합니다.\n",
    "\n",
    "> ***Q***: 다음의 코드에 css selector를 추가하여 해당 페이지에서 게시글의 제목을 스크레이핑하는 코드를 완성하시오. 또한 과제 제출시 하단의 추가 내용을 참고하여 수집한 데이터를 csv 형태로 저장하여 해당 csv 파일도 함께 제출하시오."
   ]
  },
  {
   "cell_type": "code",
   "execution_count": 50,
   "id": "e8e61925",
   "metadata": {},
   "outputs": [
    {
     "name": "stdout",
     "output_type": "stream",
     "text": [
      "['강창수 해설사님 ', '동물해설사님 칭찬', '강창수 동물 해설사님', '놀이동산 푸드코트 김치가 중국산인 이유는?', '주슨트 설명 최고예요!!', '강창수 주슨트님 최고 !!', 'ZOOCENT 스케줄표?', '호주동물 호주설명 ', '호주및 호주동물 설명에 대해 ', '동물원'] ['https://www.sisul.or.kr/open_content/childrenpark/qna/qnaMsgDetail.do;jsessionid=TWbuXPFkGypc810fqpcu8E42AaQJObpq1P1ZD6U9LjYC8fDEp11Qo1oStNyZMtHO.etisw1_servlet_user?qnaid=QNAS20210920000001&pgno=1', 'https://www.sisul.or.kr/open_content/childrenpark/qna/qnaMsgDetail.do;jsessionid=TWbuXPFkGypc810fqpcu8E42AaQJObpq1P1ZD6U9LjYC8fDEp11Qo1oStNyZMtHO.etisw1_servlet_user?qnaid=QNAS20210919000004&pgno=1', 'https://www.sisul.or.kr/open_content/childrenpark/qna/qnaMsgDetail.do;jsessionid=TWbuXPFkGypc810fqpcu8E42AaQJObpq1P1ZD6U9LjYC8fDEp11Qo1oStNyZMtHO.etisw1_servlet_user?qnaid=QNAS20210919000003&pgno=1', 'https://www.sisul.or.kr/open_content/childrenpark/qna/qnaMsgDetail.do;jsessionid=TWbuXPFkGypc810fqpcu8E42AaQJObpq1P1ZD6U9LjYC8fDEp11Qo1oStNyZMtHO.etisw1_servlet_user?qnaid=QNAS20210918000002&pgno=1', 'https://www.sisul.or.kr/open_content/childrenpark/qna/qnaMsgDetail.do;jsessionid=TWbuXPFkGypc810fqpcu8E42AaQJObpq1P1ZD6U9LjYC8fDEp11Qo1oStNyZMtHO.etisw1_servlet_user?qnaid=QNAS20210909000001&pgno=1', 'https://www.sisul.or.kr/open_content/childrenpark/qna/qnaMsgDetail.do;jsessionid=TWbuXPFkGypc810fqpcu8E42AaQJObpq1P1ZD6U9LjYC8fDEp11Qo1oStNyZMtHO.etisw1_servlet_user?qnaid=QNAS20210908000004&pgno=1', 'https://www.sisul.or.kr/open_content/childrenpark/qna/qnaMsgDetail.do;jsessionid=TWbuXPFkGypc810fqpcu8E42AaQJObpq1P1ZD6U9LjYC8fDEp11Qo1oStNyZMtHO.etisw1_servlet_user?qnaid=QNAS20210906000002&pgno=1', 'https://www.sisul.or.kr/open_content/childrenpark/qna/qnaMsgDetail.do;jsessionid=TWbuXPFkGypc810fqpcu8E42AaQJObpq1P1ZD6U9LjYC8fDEp11Qo1oStNyZMtHO.etisw1_servlet_user?qnaid=QNAS20210904000006&pgno=1', 'https://www.sisul.or.kr/open_content/childrenpark/qna/qnaMsgDetail.do;jsessionid=TWbuXPFkGypc810fqpcu8E42AaQJObpq1P1ZD6U9LjYC8fDEp11Qo1oStNyZMtHO.etisw1_servlet_user?qnaid=QNAS20210904000004&pgno=1', 'https://www.sisul.or.kr/open_content/childrenpark/qna/qnaMsgDetail.do;jsessionid=TWbuXPFkGypc810fqpcu8E42AaQJObpq1P1ZD6U9LjYC8fDEp11Qo1oStNyZMtHO.etisw1_servlet_user?qnaid=QNAS20210904000003&pgno=1']\n"
     ]
    }
   ],
   "source": [
    "url_head = \"https://www.sisul.or.kr\"  # 시민의 소리 게시물의 제목을 스크레이핑 하기 위한 url을 입력하기\n",
    "\n",
    "url_board = url_head + \"/open_content/childrenpark/qna/qnaMsgList.do?pgno=1\"\n",
    "# 시민의 소리 게시물의 제목 다음으로 추출해야 하는 내용의 Css Selector를 연결하기\n",
    "\n",
    "\n",
    "res = request.urlopen(url_board)\n",
    "soup = BeautifulSoup(res, \"html.parser\")\n",
    "\n",
    "# selector = \"#detail_con > div.generalboard > table > tbody > tr > td.left.title > a\"\n",
    "selector = \"#detail_con > div.generalboard > table > tbody > tr > td.left.title > a\"\n",
    "titles = []\n",
    "links = []\n",
    "for a in soup.select(selector):  # 순서대로 접근하기\n",
    "    titles.append(a.text)  # a의 text를 titles에 더해주기\n",
    "    links.append(url_head + a.attrs[\"href\"])  # url_head와 연결하여 더해주기\n",
    "    \n",
    "print(titles, links)\n",
    "\n",
    "    "
   ]
  },
  {
   "cell_type": "markdown",
   "id": "887cdcdd",
   "metadata": {},
   "source": [
    "## 추가내용\n",
    "수집된 자료를 데이터프레임으로 만들어 csv로 저장하는 것이 일반적입니다."
   ]
  },
  {
   "cell_type": "code",
   "execution_count": 53,
   "id": "7e158b17",
   "metadata": {
    "scrolled": true
   },
   "outputs": [
    {
     "data": {
      "text/html": [
       "<div>\n",
       "<style scoped>\n",
       "    .dataframe tbody tr th:only-of-type {\n",
       "        vertical-align: middle;\n",
       "    }\n",
       "\n",
       "    .dataframe tbody tr th {\n",
       "        vertical-align: top;\n",
       "    }\n",
       "\n",
       "    .dataframe thead th {\n",
       "        text-align: right;\n",
       "    }\n",
       "</style>\n",
       "<table border=\"1\" class=\"dataframe\">\n",
       "  <thead>\n",
       "    <tr style=\"text-align: right;\">\n",
       "      <th></th>\n",
       "      <th>title</th>\n",
       "      <th>link</th>\n",
       "    </tr>\n",
       "  </thead>\n",
       "  <tbody>\n",
       "    <tr>\n",
       "      <th>0</th>\n",
       "      <td>강창수 해설사님</td>\n",
       "      <td>https://www.sisul.or.kr/open_content/childrenp...</td>\n",
       "    </tr>\n",
       "    <tr>\n",
       "      <th>1</th>\n",
       "      <td>동물해설사님 칭찬</td>\n",
       "      <td>https://www.sisul.or.kr/open_content/childrenp...</td>\n",
       "    </tr>\n",
       "    <tr>\n",
       "      <th>2</th>\n",
       "      <td>강창수 동물 해설사님</td>\n",
       "      <td>https://www.sisul.or.kr/open_content/childrenp...</td>\n",
       "    </tr>\n",
       "    <tr>\n",
       "      <th>3</th>\n",
       "      <td>놀이동산 푸드코트 김치가 중국산인 이유는?</td>\n",
       "      <td>https://www.sisul.or.kr/open_content/childrenp...</td>\n",
       "    </tr>\n",
       "    <tr>\n",
       "      <th>4</th>\n",
       "      <td>주슨트 설명 최고예요!!</td>\n",
       "      <td>https://www.sisul.or.kr/open_content/childrenp...</td>\n",
       "    </tr>\n",
       "  </tbody>\n",
       "</table>\n",
       "</div>"
      ],
      "text/plain": [
       "                     title                                               link\n",
       "0                강창수 해설사님   https://www.sisul.or.kr/open_content/childrenp...\n",
       "1                동물해설사님 칭찬  https://www.sisul.or.kr/open_content/childrenp...\n",
       "2              강창수 동물 해설사님  https://www.sisul.or.kr/open_content/childrenp...\n",
       "3  놀이동산 푸드코트 김치가 중국산인 이유는?  https://www.sisul.or.kr/open_content/childrenp...\n",
       "4            주슨트 설명 최고예요!!  https://www.sisul.or.kr/open_content/childrenp..."
      ]
     },
     "execution_count": 53,
     "metadata": {},
     "output_type": "execute_result"
    }
   ],
   "source": [
    "import pandas as pd  # 모듈 pandas를 불러온 후 pd로 부르기로 하기\n",
    "\n",
    "board_df = pd.DataFrame({\"title\": titles, \"link\": links})\n",
    "# 결과값을 표(데이터프레임)의 형태로 추출하기 위해 데이터 프레임화 해주기\n",
    "board_df.head()  # 상위 5개만 추출하기\n"
   ]
  },
  {
   "cell_type": "code",
   "execution_count": 52,
   "id": "7f736d3b",
   "metadata": {},
   "outputs": [],
   "source": [
    "board_df.to_csv(\"board.csv\", index=False)"
   ]
  }
 ],
 "metadata": {
  "kernelspec": {
   "display_name": "Python 3",
   "language": "python",
   "name": "python3"
  },
  "language_info": {
   "codemirror_mode": {
    "name": "ipython",
    "version": 3
   },
   "file_extension": ".py",
   "mimetype": "text/x-python",
   "name": "python",
   "nbconvert_exporter": "python",
   "pygments_lexer": "ipython3",
   "version": "3.8.8"
  }
 },
 "nbformat": 4,
 "nbformat_minor": 5
}
