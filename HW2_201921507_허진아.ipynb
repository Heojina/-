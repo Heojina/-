{
 "cells": [
  {
   "cell_type": "markdown",
   "id": "26ce6007",
   "metadata": {},
   "source": [
    "# 소셜 네트워크 분석\n",
    "#### e-비즈니스학과 201921507 허진아\n",
    "\n",
    "# 목차\n",
    "## 1. 소셜 네트워크 분석 개요\n",
    "## 2. 네트워크 이론 기초\n",
    "## 3. 소셜 네트워크 분석 지표\n",
    "## 4. 소셜 네트워크 분석 도구 및 분석 사례\n",
    "## 5. 예제\n",
    "---"
   ]
  },
  {
   "cell_type": "markdown",
   "id": "45701c81",
   "metadata": {},
   "source": [
    "# 1. 소셜 네트워크 분석 개요\n",
    "## 1-1. 소셜 미디어의 등장과 확산\n",
    "> 스마트 디바이스의 급격한 확산과 동시에 소셜미디어의 확산이 가속화 됨.\n",
    "> 소셜 미디어는 온라인 인맥 네트워크와 메세지 정보가 결합된 구조로써 여기서 말하는 네트워크 관계에 대한 측정과 이해가 필요함.\n",
    "\n",
    "## 1-2. 소셜 미디어의 유형 분류\n",
    "- 사용목적 별로 유형을 세분화 하면 관계.소통형 , 관계.협업형, 공유.소통형, 공유.협업형으로 나눌 수 있음\n",
    "    - **관계 소통형**의 대표로 페이스북을 보자면, 인맥관리 및 연결에 중심을 두고 있음을 알 수 있다.\n",
    "    - **관계.협업형**은 리뷰나 뉴스 등을 대표로 볼 수 있는데 이러한 정보를 공동생산하는 유형이다.\n",
    "    - **공유.소통형**은 대표적으로 유튜브를 볼 수 있으며, 동영상및 사진 등 컨텐츠를 함께 공유하는 서비스\n",
    "    - **공유.협업형**은 테드와 위키피디아와 같이 컨텐츠 및 서비스를 협업을 통해 생산하고 공유하는데 초점을 두고 있음.\n",
    "    \n",
    "## 1-3. 네트워크 이론의 개요 \n",
    " - 소셜 네트워크의 어떤 것을 중점적으로 봐야 하야하는 부분을 배움으로써 네트워크의 중요성을 알고 앞으로의 데이터를 볼때 네트워크의 어떤 부분을 봐야하는지 알게 될 것\n",
    "\n",
    "- **네트워크** : 각각의 객체들이 상호 연결된 구조\n",
    "    - 네트워크는 복수의 노드들이 연결된 구조\n",
    "- **구성요소** : 노드(node,vertex)와 링크(link,edge)\n",
    "    - 노드: 고유한 속성을 가지고 있는 행위자\n",
    "    - 링크 : 노드들간의 관계(relation)\n",
    "\n",
    "- 예) 세계 항공기 노선도, 수도권 지하철 노선도, 카톡방\n",
    "- 수학의 ‘그래프 이론’에서 비롯된 이론, 수학적으로 연구하는 이론으로 수학과 전산학 분야에서 널리 연구\n",
    "\n",
    "\n",
    "## 1-4. 역사\n",
    "- **쾨니히스베르크 다리 문제**\n",
    "    - 오일러의 증명 : 어떤 그래프에의 한 꼭짓점에서 시작하여 펜을 떼지 않고 모든 변을 한번씩만 지나서 처음 출발점으로 되돌아오는 길을 가지려면 각 꼭짓점에 연결된 변의 개수가 모두 짝수여야 함을 증명\n",
    "        - 예) 별모양\n",
    "- **모레노의 소시오 그램**\n",
    "    - 사람들간의 상호관계를 과학적 분석의 대상으로 발전, 소셜 네트워크 분석 연구의 초석이 됨.\n",
    "    - 사회 측정법인 소시오메트리로 발전\n",
    "- **바베라스 라빗의 실험**\n",
    "    - 실험 대상자 5명을 한팀으로 묶어 주어진 문제를 풀게 하였는데, 결과적으로는 스타형과 y형 구조를 가지고 있는 문제를 가장 빨리 해결, 의사소통 과정에서 오류도 적었음\n",
    "    - 이후, ‘네트워크 중심성’에 대한 연구를 촉발, 네트워크 중심에 위치한 행위자는 의사결정 영향력, 개인적 성과, 혁신 등에 있어 유리한 위치에 있게된다는 후속 연구들이 이어짐\n",
    "- **밀그램의 6단계 분리 이론**\n",
    "    - 전세계 사람들이 서로 알게 하기 위해서는 몇단계를 거쳐야 하는가?\n",
    "    - 좁은 세상 효과 등장\n",
    "    - 연결하는 도구만 만들어지게 된다면 평균 5.5단계를 거쳐서 6단계 이론의 등장\n",
    "        - 예) 싸이월드 , 파도타기의 아이디어가 됨\n",
    "- **그라노베터의 ‘약간 연결의 강점'**\n",
    "    - 연결이 끈끈해야만 좋다? 꼭 그렇지만은 않다! 라는 것을 증명해냄\n",
    "    - 약한 사회정 관계의 유용성에 대한 새로운 시사점에 제시\n",
    "    - 강한 연결 네트워크들이 클러스터를 이루고 이러한 클러스터들이 서로 약한 연결로 연결되는 구조로 사회 네트워크가 구성된다는 것을 보여줌\n",
    "- **프리만의 ‘중심성 지표’ 개발**\n",
    "    - 연결정도 중심성, 근접 중심성, 매개 중심성\n",
    "    - 네트워크 분석에 있어 가장 널리 상용되는 척도\n",
    "    - 중개자 예) 배달의 민족\n",
    "- **버트의 ‘구조적 공백’**\n",
    "    - 사회 네트워크 구조 내에서 상대적으로 중요한 위치와 역할을 하는 노드들을 설명하기 위해 ‘구조적 공백’ 이론 제시\n",
    "    - 구조적 공백의 위치에 있는 노드는 다른 노드들과 중복적인 관계를 가지고 있지 않기 때문에 노드와 노드를 연결시켜 주는 역할을 함\n",
    "    - 실제로, 형성된 개인의 인적 네트워크 구조상에서 구조적 공백이 많은 사람이 구조적 공백이 적은 사람의 경우보다 더 빨리 승진한다는 것을 밝힘\n",
    "- **왓츠, 스트로가츠의 ‘좁은 세상 네트워크’**\n",
    "    - 정규 네트워크, 무작위 네트워크, 좁은 세상 네트워크\n",
    "    - 무척도 네트워크가 밝혀지는 계기 제공\n",
    "- **바라바시, 알버트, 정하웅의 ‘무척도 네트워크’**\n",
    "    - 하이퍼링크로 연결된 인터넷의 물리적 연결 구조에 대한 논문에서 인터넷 연결 수 분포가 정규분포를 따르지 않고 멱함수법칙을 따르는 것\n",
    "        - 무작위 네트워크에서는 연결 패턴이 평균값을 중심으로 정규분포를 이룸\n",
    "        - 무척도 네트워크는 소수의 링크만을 가지고 있는 수많은 노드들과 수많은 링크를 가지고 있는 소수의 노드들로 양분 되는 것\n",
    "    - 이러한 네트워크 구조를 무작위 네트워크와 구별하여 무척도 네트워크라 칭함\n",
    "    - 노드간의 연결이 이루어질 때 특정 노드에 대한 선호적 연결 현상이 발생, 이러한 현상의 반복으로 인해 소수의 노드들은  전체 네트워크에서 허브 등의 중요한 역할을 하게 됨"
   ]
  },
  {
   "cell_type": "markdown",
   "id": "ed01e8da",
   "metadata": {},
   "source": [
    "# 2. 네트워크 이론 기초\n",
    "## 2-1. 그래프의 기본 개념\n",
    "- 네트워크를 표현하는 네트워크 모델링 과정에서 중요하게 사용되는 것이 그래프, 행렬\n",
    "- **무항뱡 네트워크** : 책, 논문의 공저자, 네트워크, 페이스북의 친구 관계 네트워크 등\n",
    "- **방향 네트워크** : 인터넷 주소의 하이퍼링크 네트워크, 전화통화 네트워크, 트위터의 리트윗, 팔로잉 네트워크 등\n",
    "- 관계의 유무만을 표현한 경우 이진 네트워크 그래프, 관계의 정도를 함께 표시한 경우 가중 네트워크 그래프\n",
    "- 관계의 정도를 표현하는 방법은 해당 링크 옆에 가중치를 직접 표시하거나, 가중치의 정도에 따라 링크 선의 굵기를 다르게 표시하는 방법이 있음\n",
    "\n",
    "## 2-2. 그래프의 표현 방법\n",
    "- 인접 행렬 방식, 노트 리스트 방식, 엣지 리스트 방식\n",
    "- **인접 행렬 방식**\n",
    "    - 인접한 노드들 간의 연결 관계를 행렬로 표현, 네트워크 상에서 노드의 개수가 n인 경우 인접 행렬은 nxn의 정방 행렬로 표현\n",
    "    - 무방향 네트워크의 경우 모든 관계가 쌍방향이어서 방향성이 상쇄되는 경우와 동일하게 됨. 즉, 인접 행렬은 대칭적인 특징을 가짐\n",
    "    - 방향 네트워크의 경우 인접 행렬로 나타낸 방식\n",
    "- **노드 리스트 방식**\n",
    "    - 인접한 링크가 있는 노들만을 표기하는 방법\n",
    "    - 방향셩의 표시를 위해 incoming, outgoing을 구분\n",
    "- **엣지 리스트 방식**\n",
    "    - 노드가 기준이 되는 것이 아닌 링크를 표현하는 것\n",
    "    - 노드들을 연결한 링크들의 리스트로 ‘링크의 목록’\n",
    "    - 리스트는 2열로만 이루어지게 되며, 행의 개수는 전체 링크의 개수와 일치\n",
    "    - 그래프의 방향성을 자체적으로 구분하기 어렵기 때문에 그래프의 방향성 여부를 별도로 명시\n",
    "    - 고립된 노드의 경우 링크가 존재하지 않으므로 목록에서 제외\n",
    "    \n",
    "## 2-3. 네트워크 유형\n",
    "### 2-3-1. 방향성과 가중치에 따른 분류\n",
    "- 네트워크는 링크의 방향성 유무와 가중치 유무에 따라 크게 4가지 유형으로 구분이 가능\n",
    "\n",
    "### 2-3-2. 관계 위상에 따른 분류\n",
    "- 링, 메쉬, 스타, 풀리 커넥티드, 라인, 트리, 버스 등\n",
    "\n",
    "### 2-3-3. 네트워크 크기에 따른 분류\n",
    "- 네트워크를 이루고 있는 노드의 링크의 규모 등 네트워크 크기에 따라 구분할 수 있음\n",
    "\n",
    "### 2-3-4. 분석 대상에 따른 분류\n",
    "- 전체 네트워크 vs. 하위 네트워크\n",
    "    - 전체 네트워크 : 네트워크를 구성하고 있는 모든 노드를 포함한 네트워크를 말함. 완전 네트워크\n",
    "    - 하위 네트워크 : 전체 네트워크의 일부분으로 부속되어 있는 것으로 컴포넌트, 파당(clique), 클러스터 등이 해당\n",
    "        - **Clique** : 하위 네트워크, 파당에 포함된 모든 노드들이 상호간에 직접적으로 연결 , 다른 파당에는 포함되어 있지 않은 경우를 말함.\n",
    "        - **클러스터** : 유사한 속성을 가지고 있는 노드들의 집합, 유사성에 따라 클러스터를 분류해 내는 작업을 클러스터링이라고 함.\n",
    "            - 노드간 유사성 분석을 통한 클러스터링은 수학적 알고리즘을 기반으로 계산 및 시각화 되며 되부분의 소셜 네트워크 알고리즘에 내장되어 있어 손쉽게 결과물을 얻을 수 있음\n",
    "                - 예) 얼마나 동일한 표결을 한 정도를 나타낸 클러스터 - 양분화 된 것이 아닌 어느정도 중심 축에 있는 사람들이 있었음\n",
    "        - **에고 네트워크** : 네트워크 상에서 분석하고자 하는 특정 노드를 중심에 두고, 그 노드와 직접적으로 연결된 노드들 간의 관계를 네트워크로 표현한 것. 자아 중심 네트워크라고도 함."
   ]
  },
  {
   "cell_type": "markdown",
   "id": "8dcceda4",
   "metadata": {},
   "source": [
    "# 3. 소셜 네트워크 분석 지표\n",
    "## 3-1. 네트워크 수준의 속성 분석\n",
    "- **네트워크 크기** : 네트워크를 구성하는 노드들의 수\n",
    "    - 네트워크 크기가 증가할 수록 네트워크 구조의 복잡성도 증가\n",
    "    - 소셜 네트워크 분석에 있어 중요한 역할\n",
    "- **네트워크 밀도** : 네트워크를 구성하고 있는 노드들 간의 연결된 정도\n",
    "    - 네트워크 내의 노드들 간의 연결이 많아질수록 밀도는 높아진다.\n",
    "- **포괄성** : 전체 네트워크의 밀집도를 연결된 노드의 관점에서 표현\n",
    "    - 네트워크 상의 총 노드의 개수 중에서 실제로 연결 관계가 존재하는 노드의 개수가 차지하는 비율\n",
    "    - 네트워크 중에서 고립된 노드가 있는지 없는지 파악할 수 있음\n",
    "    \n",
    "## 3-2. 노드 수준의 속성 분석\n",
    "- **연결 정도** : 해당 노드에 직접 연결되어 있는 노드들의 개수, 또는 링크의 개수\n",
    "    - N개의 노드가 존재한다고 가정, 각각의 노드에 최대 n-1까지의 연결 정도가 가능\n",
    "    - 연결 정도의 측정을 통해 전체 네트워크 구조상에서 해당 노드가 보여주는 활동성과 영향력 유추가 가능\n",
    "    - 연결 정도가 높을 수록 다른 노드들과 많은 관계를 가지고 있음을 보여주며 이는 상대적으로 높은 활동성과 영향력을 반증함.\n",
    "- **연결 강도** : 노드 간 관계의 강도\n",
    "    - 이진 네트워크 : 관계의 유무만 표시한 네트워크\n",
    "    - 가중 네트워크 : 연결 관계의 강도를 상대적인 가중치를 함께 표시한 네트워크, 관계 빈도, 친밀성, 지속성, 신뢰성 등 여러가지 관계 특성을 정의 가능\n",
    "- **연결 거리** : 두개의 특정 노드들 사이에 존재하는 다양한 연결 경로 중에서 가장 적은 수의 링크 단계를 거치는 경로, 즉 가장 짧은 연결 경로 (최단 경로 거리)\n",
    "    - 두 노드간 연결 거리가 짧을 수록 노드간의 연결이 높아짐\n",
    "    - 정보나 구전 등이 얼마나 신속하게 전달되는지 가늠하는 중요한 지표\n",
    "- **직경** : 네트워크 상의 모든 연결 거리 중에서 가장 긴 연결 거리\n",
    "- **평균 연결 거리** : 모든 노드 쌍의 최단 연결 거리를 산출하여 평균값을 계산한 것을 해당 네트워크의 평균 연결 거리\n",
    "\n",
    "## 3-3. 네트워크에 내재된 속성 분석\n",
    "- **상호성** : 방향 네트워크 상에서 2개의 노드 간의 연결이 서로 쌍방향인 경우 : 상호적 연결\n",
    "    - 단방향인 경우 : 비상호적 연결\n",
    "    - 상호성 계산 : 전체 네트워크 상에서 상호적 연결이 차지하고 있는 비율로 산출\n",
    "- **군집화 계수**\n",
    "    - 군집화 : 네트워크 상에서 특정 부분의 노드들이 밀접하게 연결되어 다른 부분 보다 네트워크 밀도가 높아지는 현상\n",
    "    - 군집화 계수 : 군집화 정도를 나타내는 지표를 뜻하며 해당 노드의 이웃 노드들 간에 가능한 최대 관계의 수 중에서 실제로 존재하는 관계의 수가 차지하는 비율로 논의\n",
    "    \n",
    "## 3-4. 중심성 분석\n",
    "- 가장 많이 사용되는 지표\n",
    "- 한 행위자가 전체 네트워크에서 중심에 위치하는 정도로 표현하는 지표\n",
    "- 중요한 역할을 하는 노드가 무엇인지 파악 가능\n",
    "    - **연결정도 중심성** : 한 노드가 얼마나 많은 다른 노드들과 연결관계를 맺고 있는지 측정 , 양방향\n",
    "    - **근접 중심성** : 한 노드가 얼마나 전체 네트워크의 중심에 근접해 있는지를 측정\n",
    "        - 노드가 중앙에 가깝게 위치할 수록 자원과 정보를 신속하게 전체 네트워크로 확산\n",
    "    - **매개 중심성** : 한 노드가 다른 노드들 간의 네트워크 관계 형성에 있어서 중개자 혹은 매개자 역할을 얼마나 수행하는지 측정하는 지표\n",
    "        - 매개 중심성이 높을 수록 네트워크 내에서 정보 및 자원의 흐름에 있어서 높은 통제력 확보\n",
    "    - **아이겐 벡터 중심성** : 연결된 다른 노드들의 중요도를 함께 반영한 것 , 가중치 반영\n",
    "        - 내가 얼마나 중요한 사람들을 알고 있는가?\n",
    "        "
   ]
  },
  {
   "cell_type": "markdown",
   "id": "ddd0dc82",
   "metadata": {},
   "source": [
    "# 4. 소셜 네트워크 분석 도구 및 분석 사례\n",
    "## 4-1. 도구\n",
    "프로그래밍 언어로만 그릴 수 있는 것이 아님\n",
    "\n",
    "- **NodeXL** : 마이크로 소프트 엑셀에 에드인 형태로 결합하여 구동\n",
    "    - 엑셀에 입력만 하면 되므로 사용 하기 쉬움\n",
    "\n",
    "- **UCINET** : 다양한 소셜 네트워크 분석 기법을 적용할 수 있는 종합적인 분석 프로그램\n",
    "    - 중심성, 자아중심 네트워크 , 하위집단 등의 중요한 네트워크 분석 지표들과 기능이 많음\n",
    "\n",
    "- **Pajek** : 네트워크 분석과 시각화 기능을 제공하는 소프트 웨어\n",
    "    - 노트의 수가 10000개에 이르는 대규모 네트워크 분석 가능\n",
    "\n",
    "- **NetMiner** : 교육용도 있으며 각각의 네트워크 분석 지표별로 적합하게 구현된 시각화 기능을 제공\n",
    "\n",
    "- **Gephi** (가장 탁월한 시각화 제공) :  소셜 네트워크 분석을 포함하여 모든 종류의 복잡계 네트워크 분석에 적합하게 설계\n",
    "\n",
    "⇒ 그래프를 그리는 것은 어렵지 않음. 그래프를 그릴 수 있도록 데이터를 세팅하는 것이 중요!\n",
    "\n",
    "## 4-2. 분석 사례\n",
    "- **하이퍼 링크 네트워크 분석**\n",
    "    - 웹사이트를 운영하고 있는 국회의원들의 아웃링크 네트워크\n",
    "- **트위터 네트워크 분석**\n",
    "    - 미국 정부부처는 다른 국가로부터 가장 많은 팔로잉을 얻고 있음\n",
    "    - 미국은 다른 국가의 정부부처를 팔로우하는데 소극적\n",
    "    - 언어, 문화적, 역사적인 우사성이 국가간 연결관계에 영향을 주고 있음\n",
    "- **트위터 에고 네트워크 분석**\n",
    "    - '월스트리트를 점령하라' 운동의 공식 트위터 계정의 에고네트워크로 총 328명의 사용자 노드수가 수집\n",
    "- **유튜브 동영상 네트워크 분석**\n",
    "- **페이스북 동영상 네트워크 분석**"
   ]
  },
  {
   "cell_type": "markdown",
   "id": "8a2d82e0",
   "metadata": {},
   "source": [
    "# 5. 예제\n",
    "**networkx weight 패키지 사용**하여 방향성 네트워크와 무방향성 네트워크의 전반적인 형태를 알아보았습니다.\n",
    "## 5-1. 방향성 네트워크"
   ]
  },
  {
   "cell_type": "markdown",
   "id": "f7bd9733",
   "metadata": {},
   "source": [
    "### 5-1-1. 객체 생성"
   ]
  },
  {
   "cell_type": "code",
   "execution_count": 22,
   "id": "ee524e60",
   "metadata": {},
   "outputs": [
    {
     "data": {
      "image/png": "[encoded data removed]",
      "text/plain": [
       "<Figure size 432x288 with 1 Axes>"
      ]
     },
     "metadata": {},
     "output_type": "display_data"
    }
   ],
   "source": [
    "g2 = nx.DiGraph()\n",
    "\n",
    "g2.add_edges_from([(1, 2), (1, 3), (2, 4), (3, 4)])\n",
    "\n",
    "nx.draw(g2)"
   ]
  },
  {
   "cell_type": "markdown",
   "id": "c95f497c",
   "metadata": {},
   "source": [
    "### 5-1-2. 가중치 표시"
   ]
  },
  {
   "cell_type": "code",
   "execution_count": 23,
   "id": "a4d86651",
   "metadata": {},
   "outputs": [
    {
     "data": {
      "image/png": "[encoded data removed]",
      "text/plain": [
       "<Figure size 432x288 with 1 Axes>"
      ]
     },
     "metadata": {},
     "output_type": "display_data"
    }
   ],
   "source": [
    "g3 = nx.DiGraph() \n",
    "\n",
    "g3.add_weighted_edges_from([(1, 2, 3), (2, 3, 4)])\n",
    "g3.add_edge(1, 3, weight = 6)\n",
    "\n",
    "pos = nx.spring_layout(g3)\n",
    "nx.draw(g3, pos = pos, with_labels = True)\n",
    "\n",
    "labels = nx.get_edge_attributes(g3,'weight')\n",
    "nx.draw_networkx_edge_labels(g3, pos, edge_labels = labels);"
   ]
  },
  {
   "cell_type": "markdown",
   "id": "f129baf0",
   "metadata": {},
   "source": [
    "#### 정리\n",
    "- 간선에 방향성이 존재하는 그래프\n",
    "- 한방향으로만 움직일 수 있으며 <A,B> 로 표시 가능\n",
    "    - 단, <A,B> ≠ <B,A>\n",
    "- 일상생활에서는 **일방통행**을 예로 들 수 있다."
   ]
  },
  {
   "cell_type": "markdown",
   "id": "9ae48670",
   "metadata": {},
   "source": [
    "## 5-2. 무방향 네트워크"
   ]
  },
  {
   "cell_type": "code",
   "execution_count": 11,
   "id": "29520539",
   "metadata": {},
   "outputs": [],
   "source": [
    "G = nx.Graph()"
   ]
  },
  {
   "cell_type": "code",
   "execution_count": 18,
   "id": "76e4d5b5",
   "metadata": {},
   "outputs": [],
   "source": [
    "# 원하는 파라미터의 이름 = 실수\n",
    "# 임의의 노드와 가중치를 입력하기\n",
    "G.add_edge(1,2,weight=5)\n",
    "G.add_edge(2,3,weight=3)\n",
    "G.add_edge(3,4,weight=2)\n",
    "G.add_edge(2,4,weight=1)\n",
    "G.add_edge(1,4,weight=0.5)"
   ]
  },
  {
   "cell_type": "code",
   "execution_count": 19,
   "id": "b3105815",
   "metadata": {
    "scrolled": true
   },
   "outputs": [
    {
     "data": {
      "image/png": "[encoded data removed]",
      "text/plain": [
       "<Figure size 432x288 with 1 Axes>"
      ]
     },
     "metadata": {},
     "output_type": "display_data"
    }
   ],
   "source": [
    "pos = nx.spring_layout(G)\n",
    "nx.draw(G, pos=pos, with_labels=True)\n",
    "\n",
    "# edge label은 weight의 값을 가져오기\n",
    "labels = nx.get_edge_attributes(G,'weight')\n",
    "\n",
    "nx.draw_networkx_edge_labels(G, pos, edge_labels=labels)\n",
    "\n",
    "plt.show()"
   ]
  },
  {
   "cell_type": "markdown",
   "id": "60e2927f",
   "metadata": {},
   "source": [
    "#### 정리\n",
    "- 간선은 간선을 통해서 방향의 상관없이 양방향으로 움직일 수 있음\n",
    "- A와 B를 연결하는 간선은 (A,B)와 같이 쌍으로 표현 가능\n",
    "    - 단, <A,B> = <B,A>\n",
    "- 일상생활에서는 **양방향 통행 도로**을 예로 들 수 있다."
   ]
  }
 ],
 "metadata": {
  "kernelspec": {
   "display_name": "Python 3",
   "language": "python",
   "name": "python3"
  },
  "language_info": {
   "codemirror_mode": {
    "name": "ipython",
    "version": 3
   },
   "file_extension": ".py",
   "mimetype": "text/x-python",
   "name": "python",
   "nbconvert_exporter": "python",
   "pygments_lexer": "ipython3",
   "version": "3.8.8"
  }
 },
 "nbformat": 4,
 "nbformat_minor": 5
}
