{
 "cells": [
  {
   "cell_type": "markdown",
   "id": "36d53371",
   "metadata": {},
   "source": [
    "# Topic Trend Movie\n",
    "## 201921507 허진아"
   ]
  },
  {
   "cell_type": "code",
   "execution_count": 1,
   "id": "ee91f6dc",
   "metadata": {},
   "outputs": [],
   "source": [
    "import matplotlib\n",
    "%matplotlib inline\n",
    "import pandas as pd"
   ]
  },
  {
   "cell_type": "code",
   "execution_count": 3,
   "id": "0c8a2989",
   "metadata": {},
   "outputs": [],
   "source": [
    "data = pd.read_csv(\"movie_data_include_date.csv\", header=None, names=['review', 'rate', 'date', 'title']) #read data"
   ]
  },
  {
   "cell_type": "code",
   "execution_count": 4,
   "id": "b8ab87b3",
   "metadata": {},
   "outputs": [
    {
     "name": "stdout",
     "output_type": "stream",
     "text": [
      "0 review\n",
      "1 rate\n",
      "2 date\n",
      "3 title\n"
     ]
    }
   ],
   "source": [
    "for ix, name in enumerate(data.columns):\n",
    "    print(ix,name)"
   ]
  },
  {
   "cell_type": "code",
   "execution_count": 5,
   "id": "9ab3faf2",
   "metadata": {},
   "outputs": [
    {
     "data": {
      "text/html": [
       "<div>\n",
       "<style scoped>\n",
       "    .dataframe tbody tr th:only-of-type {\n",
       "        vertical-align: middle;\n",
       "    }\n",
       "\n",
       "    .dataframe tbody tr th {\n",
       "        vertical-align: top;\n",
       "    }\n",
       "\n",
       "    .dataframe thead th {\n",
       "        text-align: right;\n",
       "    }\n",
       "</style>\n",
       "<table border=\"1\" class=\"dataframe\">\n",
       "  <thead>\n",
       "    <tr style=\"text-align: right;\">\n",
       "      <th></th>\n",
       "      <th>review</th>\n",
       "      <th>rate</th>\n",
       "      <th>date</th>\n",
       "      <th>title</th>\n",
       "    </tr>\n",
       "  </thead>\n",
       "  <tbody>\n",
       "    <tr>\n",
       "      <th>0</th>\n",
       "      <td>돈 들인건 티가 나지만 보는 내내 하품만</td>\n",
       "      <td>1</td>\n",
       "      <td>2018.10.29</td>\n",
       "      <td>인피니티 워</td>\n",
       "    </tr>\n",
       "    <tr>\n",
       "      <th>1</th>\n",
       "      <td>몰입할수밖에 없다. 어렵게 생각할 필요없다. 내가 전투에 참여한듯 손에 땀이남.</td>\n",
       "      <td>10</td>\n",
       "      <td>2018.10.26</td>\n",
       "      <td>인피니티 워</td>\n",
       "    </tr>\n",
       "    <tr>\n",
       "      <th>2</th>\n",
       "      <td>이전 작품에 비해 더 화려하고 스케일도 커졌지만.... 전국 맛집의 음식들을 한데 ...</td>\n",
       "      <td>8</td>\n",
       "      <td>2018.10.24</td>\n",
       "      <td>인피니티 워</td>\n",
       "    </tr>\n",
       "    <tr>\n",
       "      <th>3</th>\n",
       "      <td>이 정도면 볼만하다고 할 수 있음!</td>\n",
       "      <td>8</td>\n",
       "      <td>2018.10.22</td>\n",
       "      <td>인피니티 워</td>\n",
       "    </tr>\n",
       "    <tr>\n",
       "      <th>4</th>\n",
       "      <td>재미있다</td>\n",
       "      <td>10</td>\n",
       "      <td>2018.10.20</td>\n",
       "      <td>인피니티 워</td>\n",
       "    </tr>\n",
       "  </tbody>\n",
       "</table>\n",
       "</div>"
      ],
      "text/plain": [
       "                                              review  rate        date   title\n",
       "0                             돈 들인건 티가 나지만 보는 내내 하품만     1  2018.10.29  인피니티 워\n",
       "1       몰입할수밖에 없다. 어렵게 생각할 필요없다. 내가 전투에 참여한듯 손에 땀이남.    10  2018.10.26  인피니티 워\n",
       "2  이전 작품에 비해 더 화려하고 스케일도 커졌지만.... 전국 맛집의 음식들을 한데 ...     8  2018.10.24  인피니티 워\n",
       "3                                이 정도면 볼만하다고 할 수 있음!     8  2018.10.22  인피니티 워\n",
       "4                                               재미있다    10  2018.10.20  인피니티 워"
      ]
     },
     "execution_count": 5,
     "metadata": {},
     "output_type": "execute_result"
    }
   ],
   "source": [
    "data.head()"
   ]
  },
  {
   "cell_type": "code",
   "execution_count": 6,
   "id": "e4ded480",
   "metadata": {},
   "outputs": [
    {
     "data": {
      "text/plain": [
       "pandas.core.series.Series"
      ]
     },
     "execution_count": 6,
     "metadata": {},
     "output_type": "execute_result"
    }
   ],
   "source": [
    "data.review.shape\n",
    "type(data.review)"
   ]
  },
  {
   "cell_type": "code",
   "execution_count": 7,
   "id": "c9b43cdd",
   "metadata": {},
   "outputs": [],
   "source": [
    "from konlpy.tag import Okt #konlpy에서 Twitter 형태소 분석기를 import\n",
    "twitter_tag = Okt()\n",
    "\n",
    "def tokenizer(str):\n",
    "    return [token for token in twitter_tag.nouns(str) if len(token) > 1]"
   ]
  },
  {
   "cell_type": "code",
   "execution_count": 8,
   "id": "3b2448bd",
   "metadata": {},
   "outputs": [],
   "source": [
    "from sklearn.feature_extraction.text import CountVectorizer\n",
    "\n",
    "vec = CountVectorizer(tokenizer=tokenizer, #우선은 명사만 사용\n",
    "                      decode_error ='ignore', \n",
    "                      max_df=0.5, #너무 자주 나타나는 단어는 제외, 책에서는 0.15를 사용\n",
    "                      #min_df = 3, #3개 미만의 문서에서 나타난 단어는 제외, 여기서는 max_features를 1000으로 제한하므로 별 필요 없음\n",
    "                      max_features = 1000) #적당한 대상 단어 수를 선택\n",
    "review_cv = vec.fit_transform(data.review)"
   ]
  },
  {
   "cell_type": "code",
   "execution_count": 9,
   "id": "0cfa7e5a",
   "metadata": {},
   "outputs": [
    {
     "data": {
      "text/plain": [
       "(14725, 1000)"
      ]
     },
     "execution_count": 9,
     "metadata": {},
     "output_type": "execute_result"
    }
   ],
   "source": [
    "review_cv.shape"
   ]
  },
  {
   "cell_type": "code",
   "execution_count": 10,
   "id": "24d42ae0",
   "metadata": {},
   "outputs": [],
   "source": [
    "from sklearn.decomposition import LatentDirichletAllocation\n",
    "\n",
    "lda = LatentDirichletAllocation(n_components = 10, #추출할 topic의 수를 지정\n",
    "                                max_iter=25, #max_iter는 최종 모형에서는 5,000~10,000번 시도한다고 알려져 있음\n",
    "                                topic_word_prior= 0.1, doc_topic_prior=1.0,\n",
    "                                #topic_word_prior: beta, doc_topic_prior: alpha\n",
    "                                #일반적으로 beta는 0.1로 고정하고 alpha를 50/topic의 수 근처의 값을 시도\n",
    "                                #alpha와 beta는 낮은 값을 사용할수록 특정 토픽들이 두드러지도록 하는 효과가 있다고 합\n",
    "                                learning_method='batch', #'batch'는 'online'에 비해 더 성능이 좋고 느림, 현재는 default\n",
    "                                n_jobs= -1, #사용 processor 수, None이면 1, -1이면 모두 사용\n",
    "                                random_state=0)\n",
    "\n",
    "review_topics = lda.fit_transform(review_cv)"
   ]
  },
  {
   "cell_type": "code",
   "execution_count": 11,
   "id": "a6b49543",
   "metadata": {},
   "outputs": [
    {
     "name": "stdout",
     "output_type": "stream",
     "text": [
      "(14725, 10)\n"
     ]
    },
    {
     "data": {
      "text/plain": [
       "numpy.ndarray"
      ]
     },
     "execution_count": 11,
     "metadata": {},
     "output_type": "execute_result"
    }
   ],
   "source": [
    "print(review_topics.shape)\n",
    "type(review_topics)"
   ]
  },
  {
   "cell_type": "code",
   "execution_count": 12,
   "id": "c591b4dc",
   "metadata": {},
   "outputs": [],
   "source": [
    "def print_top_words(model, feature_names, n_top_words):\n",
    "    for topic_idx, topic in enumerate(model.components_):\n",
    "        print(\"Topic #%d: \" % topic_idx, end='')\n",
    "        print(\", \".join([feature_names[i] for i in topic.argsort()[:-n_top_words - 1:-1]]))\n",
    "        #print(\", \".join([feature_names[i]+'('+str(topic[i])+')' for i in topic.argsort()[:-n_top_words - 1:-1]]))\n",
    "        # 위 slicing에서 맨 뒤 -1은 역순을 의미, 역순으로 했을 때 처음부터 n_top_words까지\n",
    "    print()"
   ]
  },
  {
   "cell_type": "code",
   "execution_count": 13,
   "id": "d1554569",
   "metadata": {},
   "outputs": [
    {
     "name": "stdout",
     "output_type": "stream",
     "text": [
      "Topic #0: 감동, 스토리, 기대, 내용, 원작, 신파, 웹툰, 별로, 억지, 나름\n",
      "Topic #1: 마블, 영화, 노스, 다음, 이해, 결말, 사람, 어벤져스, 다른, 이영화\n",
      "Topic #2: 마지막, 장면, 영화, 감독, 부분, 송강호, 하나, 모두, 작품, 때문\n",
      "Topic #3: 진짜, 사람, 광주, 역사, 가슴, 우리, 영화, 지금, 사실, 정도\n",
      "Topic #4: 영화, 보고, 그냥, 느낌, 처음, 차태현, 몰입, 관객, 천만, 정도\n",
      "Topic #5: 영화, 정말, 최고, 시간, 사랑, 이야기, 현실, 연기력, 내내, 노래\n",
      "Topic #6: 영화, 재미, 중간, 액션, 인생, 음악, 조금, 한국영, 이상, 이건\n",
      "Topic #7: 생각, 눈물, 영화, 평점, 가족, 마음, 기억, 공포, 개인, 소재\n",
      "Topic #8: 연기, 배우, 마동석, 윤계상, 한번, 영화, 대박, 조연, 간만, 제대로\n",
      "Topic #9: 영화, 공포영화, 완전, 추천, 수준, 보기, 아이, 소리, 아주, 초반\n",
      "\n"
     ]
    }
   ],
   "source": [
    "print_top_words(lda,vec.get_feature_names(), 10)"
   ]
  },
  {
   "cell_type": "code",
   "execution_count": 14,
   "id": "f19d2e92",
   "metadata": {},
   "outputs": [],
   "source": [
    "trend_data = pd.DataFrame(review_topics, columns=['topic'+str(i) for i in range(1, 11)])"
   ]
  },
  {
   "cell_type": "code",
   "execution_count": 15,
   "id": "b27c0602",
   "metadata": {},
   "outputs": [
    {
     "data": {
      "text/html": [
       "<div>\n",
       "<style scoped>\n",
       "    .dataframe tbody tr th:only-of-type {\n",
       "        vertical-align: middle;\n",
       "    }\n",
       "\n",
       "    .dataframe tbody tr th {\n",
       "        vertical-align: top;\n",
       "    }\n",
       "\n",
       "    .dataframe thead th {\n",
       "        text-align: right;\n",
       "    }\n",
       "</style>\n",
       "<table border=\"1\" class=\"dataframe\">\n",
       "  <thead>\n",
       "    <tr style=\"text-align: right;\">\n",
       "      <th></th>\n",
       "      <th>topic1</th>\n",
       "      <th>topic2</th>\n",
       "      <th>topic3</th>\n",
       "      <th>topic4</th>\n",
       "      <th>topic5</th>\n",
       "      <th>topic6</th>\n",
       "      <th>topic7</th>\n",
       "      <th>topic8</th>\n",
       "      <th>topic9</th>\n",
       "      <th>topic10</th>\n",
       "    </tr>\n",
       "  </thead>\n",
       "  <tbody>\n",
       "    <tr>\n",
       "      <th>0</th>\n",
       "      <td>0.083333</td>\n",
       "      <td>0.083333</td>\n",
       "      <td>0.083333</td>\n",
       "      <td>0.085227</td>\n",
       "      <td>0.083333</td>\n",
       "      <td>0.164773</td>\n",
       "      <td>0.083333</td>\n",
       "      <td>0.083333</td>\n",
       "      <td>0.166666</td>\n",
       "      <td>0.083333</td>\n",
       "    </tr>\n",
       "    <tr>\n",
       "      <th>1</th>\n",
       "      <td>0.083719</td>\n",
       "      <td>0.083474</td>\n",
       "      <td>0.083334</td>\n",
       "      <td>0.083412</td>\n",
       "      <td>0.166804</td>\n",
       "      <td>0.083599</td>\n",
       "      <td>0.083333</td>\n",
       "      <td>0.165561</td>\n",
       "      <td>0.083339</td>\n",
       "      <td>0.083424</td>\n",
       "    </tr>\n",
       "    <tr>\n",
       "      <th>2</th>\n",
       "      <td>0.061579</td>\n",
       "      <td>0.173715</td>\n",
       "      <td>0.235294</td>\n",
       "      <td>0.058824</td>\n",
       "      <td>0.117647</td>\n",
       "      <td>0.058824</td>\n",
       "      <td>0.117646</td>\n",
       "      <td>0.058824</td>\n",
       "      <td>0.058824</td>\n",
       "      <td>0.058824</td>\n",
       "    </tr>\n",
       "    <tr>\n",
       "      <th>3</th>\n",
       "      <td>0.099623</td>\n",
       "      <td>0.092738</td>\n",
       "      <td>0.092533</td>\n",
       "      <td>0.128630</td>\n",
       "      <td>0.120396</td>\n",
       "      <td>0.090909</td>\n",
       "      <td>0.093225</td>\n",
       "      <td>0.093004</td>\n",
       "      <td>0.095131</td>\n",
       "      <td>0.093810</td>\n",
       "    </tr>\n",
       "    <tr>\n",
       "      <th>4</th>\n",
       "      <td>0.100000</td>\n",
       "      <td>0.100000</td>\n",
       "      <td>0.100000</td>\n",
       "      <td>0.100000</td>\n",
       "      <td>0.100000</td>\n",
       "      <td>0.100000</td>\n",
       "      <td>0.100000</td>\n",
       "      <td>0.100000</td>\n",
       "      <td>0.100000</td>\n",
       "      <td>0.100000</td>\n",
       "    </tr>\n",
       "  </tbody>\n",
       "</table>\n",
       "</div>"
      ],
      "text/plain": [
       "     topic1    topic2    topic3    topic4    topic5    topic6    topic7  \\\n",
       "0  0.083333  0.083333  0.083333  0.085227  0.083333  0.164773  0.083333   \n",
       "1  0.083719  0.083474  0.083334  0.083412  0.166804  0.083599  0.083333   \n",
       "2  0.061579  0.173715  0.235294  0.058824  0.117647  0.058824  0.117646   \n",
       "3  0.099623  0.092738  0.092533  0.128630  0.120396  0.090909  0.093225   \n",
       "4  0.100000  0.100000  0.100000  0.100000  0.100000  0.100000  0.100000   \n",
       "\n",
       "     topic8    topic9   topic10  \n",
       "0  0.083333  0.166666  0.083333  \n",
       "1  0.165561  0.083339  0.083424  \n",
       "2  0.058824  0.058824  0.058824  \n",
       "3  0.093004  0.095131  0.093810  \n",
       "4  0.100000  0.100000  0.100000  "
      ]
     },
     "execution_count": 15,
     "metadata": {},
     "output_type": "execute_result"
    }
   ],
   "source": [
    "trend_data.head()"
   ]
  },
  {
   "cell_type": "code",
   "execution_count": 16,
   "id": "8567e49f",
   "metadata": {},
   "outputs": [],
   "source": [
    "trend_data = pd.concat([trend_data, data.date], axis=1)"
   ]
  },
  {
   "cell_type": "code",
   "execution_count": 17,
   "id": "7d3e45b2",
   "metadata": {},
   "outputs": [
    {
     "data": {
      "text/plain": [
       "(14725, 11)"
      ]
     },
     "execution_count": 17,
     "metadata": {},
     "output_type": "execute_result"
    }
   ],
   "source": [
    "trend_data.shape"
   ]
  },
  {
   "cell_type": "code",
   "execution_count": 18,
   "id": "f95372bd",
   "metadata": {},
   "outputs": [
    {
     "data": {
      "text/html": [
       "<div>\n",
       "<style scoped>\n",
       "    .dataframe tbody tr th:only-of-type {\n",
       "        vertical-align: middle;\n",
       "    }\n",
       "\n",
       "    .dataframe tbody tr th {\n",
       "        vertical-align: top;\n",
       "    }\n",
       "\n",
       "    .dataframe thead th {\n",
       "        text-align: right;\n",
       "    }\n",
       "</style>\n",
       "<table border=\"1\" class=\"dataframe\">\n",
       "  <thead>\n",
       "    <tr style=\"text-align: right;\">\n",
       "      <th></th>\n",
       "      <th>topic1</th>\n",
       "      <th>topic2</th>\n",
       "      <th>topic3</th>\n",
       "      <th>topic4</th>\n",
       "      <th>topic5</th>\n",
       "      <th>topic6</th>\n",
       "      <th>topic7</th>\n",
       "      <th>topic8</th>\n",
       "      <th>topic9</th>\n",
       "      <th>topic10</th>\n",
       "      <th>date</th>\n",
       "    </tr>\n",
       "  </thead>\n",
       "  <tbody>\n",
       "    <tr>\n",
       "      <th>0</th>\n",
       "      <td>0.083333</td>\n",
       "      <td>0.083333</td>\n",
       "      <td>0.083333</td>\n",
       "      <td>0.085227</td>\n",
       "      <td>0.083333</td>\n",
       "      <td>0.164773</td>\n",
       "      <td>0.083333</td>\n",
       "      <td>0.083333</td>\n",
       "      <td>0.166666</td>\n",
       "      <td>0.083333</td>\n",
       "      <td>2018.10.29</td>\n",
       "    </tr>\n",
       "    <tr>\n",
       "      <th>1</th>\n",
       "      <td>0.083719</td>\n",
       "      <td>0.083474</td>\n",
       "      <td>0.083334</td>\n",
       "      <td>0.083412</td>\n",
       "      <td>0.166804</td>\n",
       "      <td>0.083599</td>\n",
       "      <td>0.083333</td>\n",
       "      <td>0.165561</td>\n",
       "      <td>0.083339</td>\n",
       "      <td>0.083424</td>\n",
       "      <td>2018.10.26</td>\n",
       "    </tr>\n",
       "    <tr>\n",
       "      <th>2</th>\n",
       "      <td>0.061579</td>\n",
       "      <td>0.173715</td>\n",
       "      <td>0.235294</td>\n",
       "      <td>0.058824</td>\n",
       "      <td>0.117647</td>\n",
       "      <td>0.058824</td>\n",
       "      <td>0.117646</td>\n",
       "      <td>0.058824</td>\n",
       "      <td>0.058824</td>\n",
       "      <td>0.058824</td>\n",
       "      <td>2018.10.24</td>\n",
       "    </tr>\n",
       "    <tr>\n",
       "      <th>3</th>\n",
       "      <td>0.099623</td>\n",
       "      <td>0.092738</td>\n",
       "      <td>0.092533</td>\n",
       "      <td>0.128630</td>\n",
       "      <td>0.120396</td>\n",
       "      <td>0.090909</td>\n",
       "      <td>0.093225</td>\n",
       "      <td>0.093004</td>\n",
       "      <td>0.095131</td>\n",
       "      <td>0.093810</td>\n",
       "      <td>2018.10.22</td>\n",
       "    </tr>\n",
       "    <tr>\n",
       "      <th>4</th>\n",
       "      <td>0.100000</td>\n",
       "      <td>0.100000</td>\n",
       "      <td>0.100000</td>\n",
       "      <td>0.100000</td>\n",
       "      <td>0.100000</td>\n",
       "      <td>0.100000</td>\n",
       "      <td>0.100000</td>\n",
       "      <td>0.100000</td>\n",
       "      <td>0.100000</td>\n",
       "      <td>0.100000</td>\n",
       "      <td>2018.10.20</td>\n",
       "    </tr>\n",
       "  </tbody>\n",
       "</table>\n",
       "</div>"
      ],
      "text/plain": [
       "     topic1    topic2    topic3    topic4    topic5    topic6    topic7  \\\n",
       "0  0.083333  0.083333  0.083333  0.085227  0.083333  0.164773  0.083333   \n",
       "1  0.083719  0.083474  0.083334  0.083412  0.166804  0.083599  0.083333   \n",
       "2  0.061579  0.173715  0.235294  0.058824  0.117647  0.058824  0.117646   \n",
       "3  0.099623  0.092738  0.092533  0.128630  0.120396  0.090909  0.093225   \n",
       "4  0.100000  0.100000  0.100000  0.100000  0.100000  0.100000  0.100000   \n",
       "\n",
       "     topic8    topic9   topic10        date  \n",
       "0  0.083333  0.166666  0.083333  2018.10.29  \n",
       "1  0.165561  0.083339  0.083424  2018.10.26  \n",
       "2  0.058824  0.058824  0.058824  2018.10.24  \n",
       "3  0.093004  0.095131  0.093810  2018.10.22  \n",
       "4  0.100000  0.100000  0.100000  2018.10.20  "
      ]
     },
     "execution_count": 18,
     "metadata": {},
     "output_type": "execute_result"
    }
   ],
   "source": [
    "trend_data.head()"
   ]
  },
  {
   "cell_type": "code",
   "execution_count": 19,
   "id": "2739dc7b",
   "metadata": {},
   "outputs": [],
   "source": [
    "trend = trend_data.groupby(['date']).mean()"
   ]
  },
  {
   "cell_type": "code",
   "execution_count": 20,
   "id": "f440665b",
   "metadata": {},
   "outputs": [
    {
     "data": {
      "text/plain": [
       "(640, 10)"
      ]
     },
     "execution_count": 20,
     "metadata": {},
     "output_type": "execute_result"
    }
   ],
   "source": [
    "trend.shape"
   ]
  },
  {
   "cell_type": "code",
   "execution_count": 21,
   "id": "b930aaac",
   "metadata": {},
   "outputs": [
    {
     "data": {
      "text/html": [
       "<div>\n",
       "<style scoped>\n",
       "    .dataframe tbody tr th:only-of-type {\n",
       "        vertical-align: middle;\n",
       "    }\n",
       "\n",
       "    .dataframe tbody tr th {\n",
       "        vertical-align: top;\n",
       "    }\n",
       "\n",
       "    .dataframe thead th {\n",
       "        text-align: right;\n",
       "    }\n",
       "</style>\n",
       "<table border=\"1\" class=\"dataframe\">\n",
       "  <thead>\n",
       "    <tr style=\"text-align: right;\">\n",
       "      <th></th>\n",
       "      <th>topic1</th>\n",
       "      <th>topic2</th>\n",
       "      <th>topic3</th>\n",
       "      <th>topic4</th>\n",
       "      <th>topic5</th>\n",
       "      <th>topic6</th>\n",
       "      <th>topic7</th>\n",
       "      <th>topic8</th>\n",
       "      <th>topic9</th>\n",
       "      <th>topic10</th>\n",
       "    </tr>\n",
       "    <tr>\n",
       "      <th>date</th>\n",
       "      <th></th>\n",
       "      <th></th>\n",
       "      <th></th>\n",
       "      <th></th>\n",
       "      <th></th>\n",
       "      <th></th>\n",
       "      <th></th>\n",
       "      <th></th>\n",
       "      <th></th>\n",
       "      <th></th>\n",
       "    </tr>\n",
       "  </thead>\n",
       "  <tbody>\n",
       "    <tr>\n",
       "      <th>2016.04.27</th>\n",
       "      <td>0.058931</td>\n",
       "      <td>0.121572</td>\n",
       "      <td>0.183691</td>\n",
       "      <td>0.119880</td>\n",
       "      <td>0.133482</td>\n",
       "      <td>0.132234</td>\n",
       "      <td>0.069273</td>\n",
       "      <td>0.060602</td>\n",
       "      <td>0.059965</td>\n",
       "      <td>0.060368</td>\n",
       "    </tr>\n",
       "    <tr>\n",
       "      <th>2016.05.09</th>\n",
       "      <td>0.222643</td>\n",
       "      <td>0.094897</td>\n",
       "      <td>0.062148</td>\n",
       "      <td>0.073525</td>\n",
       "      <td>0.099706</td>\n",
       "      <td>0.090204</td>\n",
       "      <td>0.073010</td>\n",
       "      <td>0.109825</td>\n",
       "      <td>0.112139</td>\n",
       "      <td>0.061904</td>\n",
       "    </tr>\n",
       "    <tr>\n",
       "      <th>2016.05.20</th>\n",
       "      <td>0.312642</td>\n",
       "      <td>0.062559</td>\n",
       "      <td>0.062500</td>\n",
       "      <td>0.125000</td>\n",
       "      <td>0.071146</td>\n",
       "      <td>0.062500</td>\n",
       "      <td>0.062571</td>\n",
       "      <td>0.062500</td>\n",
       "      <td>0.116082</td>\n",
       "      <td>0.062500</td>\n",
       "    </tr>\n",
       "    <tr>\n",
       "      <th>2016.06.04</th>\n",
       "      <td>0.083333</td>\n",
       "      <td>0.084768</td>\n",
       "      <td>0.129015</td>\n",
       "      <td>0.083333</td>\n",
       "      <td>0.083333</td>\n",
       "      <td>0.083333</td>\n",
       "      <td>0.083333</td>\n",
       "      <td>0.083333</td>\n",
       "      <td>0.166667</td>\n",
       "      <td>0.119550</td>\n",
       "    </tr>\n",
       "    <tr>\n",
       "      <th>2016.07.09</th>\n",
       "      <td>0.100000</td>\n",
       "      <td>0.100000</td>\n",
       "      <td>0.100000</td>\n",
       "      <td>0.100000</td>\n",
       "      <td>0.100000</td>\n",
       "      <td>0.100000</td>\n",
       "      <td>0.100000</td>\n",
       "      <td>0.100000</td>\n",
       "      <td>0.100000</td>\n",
       "      <td>0.100000</td>\n",
       "    </tr>\n",
       "  </tbody>\n",
       "</table>\n",
       "</div>"
      ],
      "text/plain": [
       "              topic1    topic2    topic3    topic4    topic5    topic6  \\\n",
       "date                                                                     \n",
       "2016.04.27  0.058931  0.121572  0.183691  0.119880  0.133482  0.132234   \n",
       "2016.05.09  0.222643  0.094897  0.062148  0.073525  0.099706  0.090204   \n",
       "2016.05.20  0.312642  0.062559  0.062500  0.125000  0.071146  0.062500   \n",
       "2016.06.04  0.083333  0.084768  0.129015  0.083333  0.083333  0.083333   \n",
       "2016.07.09  0.100000  0.100000  0.100000  0.100000  0.100000  0.100000   \n",
       "\n",
       "              topic7    topic8    topic9   topic10  \n",
       "date                                                \n",
       "2016.04.27  0.069273  0.060602  0.059965  0.060368  \n",
       "2016.05.09  0.073010  0.109825  0.112139  0.061904  \n",
       "2016.05.20  0.062571  0.062500  0.116082  0.062500  \n",
       "2016.06.04  0.083333  0.083333  0.166667  0.119550  \n",
       "2016.07.09  0.100000  0.100000  0.100000  0.100000  "
      ]
     },
     "execution_count": 21,
     "metadata": {},
     "output_type": "execute_result"
    }
   ],
   "source": [
    "trend.head()"
   ]
  },
  {
   "cell_type": "code",
   "execution_count": 22,
   "id": "2872a402",
   "metadata": {},
   "outputs": [
    {
     "data": {
      "text/plain": [
       "640"
      ]
     },
     "execution_count": 22,
     "metadata": {},
     "output_type": "execute_result"
    }
   ],
   "source": [
    "len(set(trend_data.date))"
   ]
  },
  {
   "cell_type": "code",
   "execution_count": 23,
   "id": "2d6995d7",
   "metadata": {},
   "outputs": [],
   "source": [
    "#jupyter에서 matplotlib을 사용해 만든 graph를 화면에 표시하기 위해 필요\n",
    "%matplotlib inline \n",
    "\n",
    "import matplotlib.pyplot as plt\n",
    "\n",
    "#아래는 한글을 사용할 때 깨지는 문제에 대한 해결\n",
    "from matplotlib import font_manager, rc\n",
    "font_name = font_manager.FontProperties(fname=\"c:/Windows/Fonts/malgun.ttf\").get_name()\n",
    "rc('font', family=font_name)\n",
    "\n",
    "#그래프의 축 등에서 음수를 표시할 때 minus sign이 깨지는 것 해결\n",
    "import matplotlib as mpl\n",
    "mpl.rcParams['axes.unicode_minus'] = False"
   ]
  },
  {
   "cell_type": "code",
   "execution_count": 24,
   "id": "e83f7ffe",
   "metadata": {},
   "outputs": [
    {
     "data": {
      "image/png": "[encoded data removed]",
      "text/plain": [
       "<Figure size 432x288 with 1 Axes>"
      ]
     },
     "metadata": {
      "needs_background": "light"
     },
     "output_type": "display_data"
    }
   ],
   "source": [
    "plt.plot(trend.index[:100], trend.topic1[:100])\n",
    "plt.show()"
   ]
  }
 ],
 "metadata": {
  "kernelspec": {
   "display_name": "Python 3",
   "language": "python",
   "name": "python3"
  },
  "language_info": {
   "codemirror_mode": {
    "name": "ipython",
    "version": 3
   },
   "file_extension": ".py",
   "mimetype": "text/x-python",
   "name": "python",
   "nbconvert_exporter": "python",
   "pygments_lexer": "ipython3",
   "version": "3.8.8"
  }
 },
 "nbformat": 4,
 "nbformat_minor": 5
}
